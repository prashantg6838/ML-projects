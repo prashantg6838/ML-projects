{
 "cells": [
  {
   "cell_type": "markdown",
   "id": "8969849e",
   "metadata": {
    "id": "8969849e"
   },
   "source": [
    "## Car Price Prediction"
   ]
  },
  {
   "cell_type": "markdown",
   "id": "mGdGVQwTNJCO",
   "metadata": {
    "id": "mGdGVQwTNJCO"
   },
   "source": [
    "## Agenda\n",
    "\n",
    "- Case study details\n",
    "- EDA \n",
    "- Model Building\n",
    "- Tuning : Grid Search / Random Search\n",
    "- Final Prediction and Conclusion\n"
   ]
  },
  {
   "cell_type": "markdown",
   "id": "R67m5RsRvYwe",
   "metadata": {
    "id": "R67m5RsRvYwe"
   },
   "source": [
    "# Case Study Details"
   ]
  },
  {
   "cell_type": "markdown",
   "id": "99a2ede3",
   "metadata": {
    "id": "99a2ede3"
   },
   "source": [
    "#### Domain\n",
    "Automobiles, Sales and Marketing\n",
    "\n",
    "#### Business Context\n",
    "There is a huge demand for refurbished cars in the Indian Market today. As sales of new cars have slowed down in the recent past, the refurbished car market has continued to grow over the past year and is larger than the new car market now. \n",
    "Consider this: In 2018-19, the sales of refurbished cars which were previously owned by someone has increased steadily, and it is currently estimated to be approximately 1.3 times the sales of new cars. There are multiple reasons for this shift. However, the key reason is the increase in total cost of ownership of new cars which includes taxes, insurances.\n",
    "There is a slowdown in new car sales and that could mean that the demand is shifting towards the pre-owned market. \n",
    "\n",
    "#### Objective\n",
    "The goal here is to predict the Price of a refurbished car based on the variables provided in the data set by building a regression model\n",
    "\n",
    "#### Data Description\n",
    "- 1.ID: Car ID\n",
    "- 2.Maker: Maker of the car\n",
    "- 3.Model: Model of the car\n",
    "- 4.Location: Location of the car owner\n",
    "- 5.Distance: Distance traveled\n",
    "- 6.Owner Type: First hand, second hand…\n",
    "- 7.Manufacture year: Year of manufacture\n",
    "- 8.Age of car: Age of the car\n",
    "- 9.Engine displacement: Displacement in cc\n",
    "- 10.Engine power: Engine power in bhp\n",
    "- 11.Body type: Type of body\n",
    "- 12.Vroom audit rating: Vroom rating\n",
    "- 13.Transmission: Manual or Automatic \n",
    "- 14.Door count: Door count\n",
    "- 15.Seat count: Seat count\n",
    "- 16.Fuel type: Type of fuel\n",
    "- 17.Price: Price in rupees"
   ]
  },
  {
   "cell_type": "markdown",
   "id": "dGCEQbnSvcHa",
   "metadata": {
    "id": "dGCEQbnSvcHa"
   },
   "source": [
    "# EDA"
   ]
  },
  {
   "cell_type": "markdown",
   "id": "f2379e90",
   "metadata": {
    "id": "f2379e90"
   },
   "source": [
    "### Import required libraries"
   ]
  },
  {
   "cell_type": "code",
   "execution_count": 73,
   "id": "8eeb56e1",
   "metadata": {
    "id": "8eeb56e1"
   },
   "outputs": [],
   "source": [
    "#importing required libraries\n",
    "\n",
    "import numpy as np\n",
    "import pandas as pd\n",
    "import seaborn as sns\n",
    "import matplotlib.pyplot as plt\n",
    "import warnings\n",
    "warnings.filterwarnings(action='ignore')\n",
    "\n",
    "from sklearn.model_selection import cross_val_score,KFold\n",
    "from sklearn.model_selection import train_test_split\n",
    "from sklearn.preprocessing import StandardScaler,LabelEncoder\n",
    "from sklearn.metrics import r2_score,mean_absolute_error,mean_squared_error\n",
    "from sklearn.metrics import mean_squared_log_error\n",
    "\n",
    "from sklearn.linear_model import LinearRegression\n",
    "from sklearn.tree import DecisionTreeRegressor\n",
    "from sklearn.ensemble import RandomForestRegressor\n",
    "from sklearn.neighbors import KNeighborsRegressor\n",
    "from sklearn.ensemble import AdaBoostRegressor,GradientBoostingRegressor\n",
    "from sklearn.ensemble import BaggingRegressor\n",
    "from sklearn.model_selection import GridSearchCV\n",
    "import xgboost\n",
    "from xgboost import XGBRegressor"
   ]
  },
  {
   "cell_type": "markdown",
   "id": "9ba26550",
   "metadata": {
    "id": "9ba26550"
   },
   "source": [
    "### Load the dataset"
   ]
  },
  {
   "cell_type": "code",
   "execution_count": 74,
   "id": "QvJYqBbzvfe6",
   "metadata": {
    "id": "QvJYqBbzvfe6"
   },
   "outputs": [],
   "source": [
    "#from google.colab import drive\n",
    "#drive.mount(\"/content/gdrive\")"
   ]
  },
  {
   "cell_type": "code",
   "execution_count": 75,
   "id": "51a5fa29",
   "metadata": {
    "colab": {
     "base_uri": "https://localhost:8080/",
     "height": 340
    },
    "id": "51a5fa29",
    "outputId": "9c798e30-b30d-405d-d0c2-b4df9c0ebc4b",
    "scrolled": false
   },
   "outputs": [
    {
     "data": {
      "text/html": [
       "\n",
       "  <div id=\"df-f345eb2d-1e65-41a3-a9cc-27d3a09b3a6b\">\n",
       "    <div class=\"colab-df-container\">\n",
       "      <div>\n",
       "<style scoped>\n",
       "    .dataframe tbody tr th:only-of-type {\n",
       "        vertical-align: middle;\n",
       "    }\n",
       "\n",
       "    .dataframe tbody tr th {\n",
       "        vertical-align: top;\n",
       "    }\n",
       "\n",
       "    .dataframe thead th {\n",
       "        text-align: right;\n",
       "    }\n",
       "</style>\n",
       "<table border=\"1\" class=\"dataframe\">\n",
       "  <thead>\n",
       "    <tr style=\"text-align: right;\">\n",
       "      <th></th>\n",
       "      <th>Id</th>\n",
       "      <th>Maker</th>\n",
       "      <th>model</th>\n",
       "      <th>Location</th>\n",
       "      <th>Distance</th>\n",
       "      <th>Owner Type</th>\n",
       "      <th>manufacture_year</th>\n",
       "      <th>Age of car</th>\n",
       "      <th>engine_displacement</th>\n",
       "      <th>engine_power</th>\n",
       "      <th>body_type</th>\n",
       "      <th>Vroom Audit Rating</th>\n",
       "      <th>transmission</th>\n",
       "      <th>door_count</th>\n",
       "      <th>seat_count</th>\n",
       "      <th>fuel_type</th>\n",
       "      <th>Price</th>\n",
       "    </tr>\n",
       "  </thead>\n",
       "  <tbody>\n",
       "    <tr>\n",
       "      <th>0</th>\n",
       "      <td>25001</td>\n",
       "      <td>skoda</td>\n",
       "      <td>octavia</td>\n",
       "      <td>Ahmedabad</td>\n",
       "      <td>NaN</td>\n",
       "      <td>Second</td>\n",
       "      <td>1964</td>\n",
       "      <td>55</td>\n",
       "      <td>1964</td>\n",
       "      <td>147.0</td>\n",
       "      <td>compact</td>\n",
       "      <td>8</td>\n",
       "      <td>man</td>\n",
       "      <td>None</td>\n",
       "      <td>None</td>\n",
       "      <td>petrol</td>\n",
       "      <td>543764.25</td>\n",
       "    </tr>\n",
       "    <tr>\n",
       "      <th>1</th>\n",
       "      <td>25002</td>\n",
       "      <td>fiat</td>\n",
       "      <td>panda</td>\n",
       "      <td>Ahmedabad</td>\n",
       "      <td>27750.0</td>\n",
       "      <td>Third</td>\n",
       "      <td>2012</td>\n",
       "      <td>7</td>\n",
       "      <td>1242</td>\n",
       "      <td>51.0</td>\n",
       "      <td>NaN</td>\n",
       "      <td>6</td>\n",
       "      <td>man</td>\n",
       "      <td>4</td>\n",
       "      <td>4</td>\n",
       "      <td>petrol</td>\n",
       "      <td>401819.25</td>\n",
       "    </tr>\n",
       "    <tr>\n",
       "      <th>2</th>\n",
       "      <td>25003</td>\n",
       "      <td>bmw</td>\n",
       "      <td>x1</td>\n",
       "      <td>Hyderabad</td>\n",
       "      <td>46000.0</td>\n",
       "      <td>Third</td>\n",
       "      <td>2014</td>\n",
       "      <td>5</td>\n",
       "      <td>1995</td>\n",
       "      <td>105.0</td>\n",
       "      <td>NaN</td>\n",
       "      <td>7</td>\n",
       "      <td>auto</td>\n",
       "      <td>4</td>\n",
       "      <td>5</td>\n",
       "      <td>diesel</td>\n",
       "      <td>2392855.50</td>\n",
       "    </tr>\n",
       "    <tr>\n",
       "      <th>3</th>\n",
       "      <td>25004</td>\n",
       "      <td>nissan</td>\n",
       "      <td>juke</td>\n",
       "      <td>Mumbai</td>\n",
       "      <td>43949.0</td>\n",
       "      <td>Third</td>\n",
       "      <td>2011</td>\n",
       "      <td>8</td>\n",
       "      <td>1618</td>\n",
       "      <td>140.0</td>\n",
       "      <td>NaN</td>\n",
       "      <td>7</td>\n",
       "      <td>man</td>\n",
       "      <td>4</td>\n",
       "      <td>5</td>\n",
       "      <td>petrol</td>\n",
       "      <td>958606.50</td>\n",
       "    </tr>\n",
       "    <tr>\n",
       "      <th>4</th>\n",
       "      <td>25005</td>\n",
       "      <td>bmw</td>\n",
       "      <td>x5</td>\n",
       "      <td>Jaipur</td>\n",
       "      <td>59524.0</td>\n",
       "      <td>Fourth &amp; Above</td>\n",
       "      <td>2012</td>\n",
       "      <td>7</td>\n",
       "      <td>2993</td>\n",
       "      <td>180.0</td>\n",
       "      <td>NaN</td>\n",
       "      <td>7</td>\n",
       "      <td>auto</td>\n",
       "      <td>4</td>\n",
       "      <td>5</td>\n",
       "      <td>diesel</td>\n",
       "      <td>3085561.50</td>\n",
       "    </tr>\n",
       "  </tbody>\n",
       "</table>\n",
       "</div>\n",
       "      <button class=\"colab-df-convert\" onclick=\"convertToInteractive('df-f345eb2d-1e65-41a3-a9cc-27d3a09b3a6b')\"\n",
       "              title=\"Convert this dataframe to an interactive table.\"\n",
       "              style=\"display:none;\">\n",
       "        \n",
       "  <svg xmlns=\"http://www.w3.org/2000/svg\" height=\"24px\"viewBox=\"0 0 24 24\"\n",
       "       width=\"24px\">\n",
       "    <path d=\"M0 0h24v24H0V0z\" fill=\"none\"/>\n",
       "    <path d=\"M18.56 5.44l.94 2.06.94-2.06 2.06-.94-2.06-.94-.94-2.06-.94 2.06-2.06.94zm-11 1L8.5 8.5l.94-2.06 2.06-.94-2.06-.94L8.5 2.5l-.94 2.06-2.06.94zm10 10l.94 2.06.94-2.06 2.06-.94-2.06-.94-.94-2.06-.94 2.06-2.06.94z\"/><path d=\"M17.41 7.96l-1.37-1.37c-.4-.4-.92-.59-1.43-.59-.52 0-1.04.2-1.43.59L10.3 9.45l-7.72 7.72c-.78.78-.78 2.05 0 2.83L4 21.41c.39.39.9.59 1.41.59.51 0 1.02-.2 1.41-.59l7.78-7.78 2.81-2.81c.8-.78.8-2.07 0-2.86zM5.41 20L4 18.59l7.72-7.72 1.47 1.35L5.41 20z\"/>\n",
       "  </svg>\n",
       "      </button>\n",
       "      \n",
       "  <style>\n",
       "    .colab-df-container {\n",
       "      display:flex;\n",
       "      flex-wrap:wrap;\n",
       "      gap: 12px;\n",
       "    }\n",
       "\n",
       "    .colab-df-convert {\n",
       "      background-color: #E8F0FE;\n",
       "      border: none;\n",
       "      border-radius: 50%;\n",
       "      cursor: pointer;\n",
       "      display: none;\n",
       "      fill: #1967D2;\n",
       "      height: 32px;\n",
       "      padding: 0 0 0 0;\n",
       "      width: 32px;\n",
       "    }\n",
       "\n",
       "    .colab-df-convert:hover {\n",
       "      background-color: #E2EBFA;\n",
       "      box-shadow: 0px 1px 2px rgba(60, 64, 67, 0.3), 0px 1px 3px 1px rgba(60, 64, 67, 0.15);\n",
       "      fill: #174EA6;\n",
       "    }\n",
       "\n",
       "    [theme=dark] .colab-df-convert {\n",
       "      background-color: #3B4455;\n",
       "      fill: #D2E3FC;\n",
       "    }\n",
       "\n",
       "    [theme=dark] .colab-df-convert:hover {\n",
       "      background-color: #434B5C;\n",
       "      box-shadow: 0px 1px 3px 1px rgba(0, 0, 0, 0.15);\n",
       "      filter: drop-shadow(0px 1px 2px rgba(0, 0, 0, 0.3));\n",
       "      fill: #FFFFFF;\n",
       "    }\n",
       "  </style>\n",
       "\n",
       "      <script>\n",
       "        const buttonEl =\n",
       "          document.querySelector('#df-f345eb2d-1e65-41a3-a9cc-27d3a09b3a6b button.colab-df-convert');\n",
       "        buttonEl.style.display =\n",
       "          google.colab.kernel.accessAllowed ? 'block' : 'none';\n",
       "\n",
       "        async function convertToInteractive(key) {\n",
       "          const element = document.querySelector('#df-f345eb2d-1e65-41a3-a9cc-27d3a09b3a6b');\n",
       "          const dataTable =\n",
       "            await google.colab.kernel.invokeFunction('convertToInteractive',\n",
       "                                                     [key], {});\n",
       "          if (!dataTable) return;\n",
       "\n",
       "          const docLinkHtml = 'Like what you see? Visit the ' +\n",
       "            '<a target=\"_blank\" href=https://colab.research.google.com/notebooks/data_table.ipynb>data table notebook</a>'\n",
       "            + ' to learn more about interactive tables.';\n",
       "          element.innerHTML = '';\n",
       "          dataTable['output_type'] = 'display_data';\n",
       "          await google.colab.output.renderOutput(dataTable, element);\n",
       "          const docLink = document.createElement('div');\n",
       "          docLink.innerHTML = docLinkHtml;\n",
       "          element.appendChild(docLink);\n",
       "        }\n",
       "      </script>\n",
       "    </div>\n",
       "  </div>\n",
       "  "
      ],
      "text/plain": [
       "      Id   Maker    model   Location  Distance       Owner Type  \\\n",
       "0  25001   skoda  octavia  Ahmedabad        NaN          Second   \n",
       "1  25002    fiat    panda  Ahmedabad    27750.0           Third   \n",
       "2  25003     bmw       x1  Hyderabad    46000.0           Third   \n",
       "3  25004  nissan     juke     Mumbai    43949.0           Third   \n",
       "4  25005     bmw       x5     Jaipur    59524.0  Fourth & Above   \n",
       "\n",
       "   manufacture_year  Age of car  engine_displacement  engine_power body_type  \\\n",
       "0              1964          55                 1964         147.0   compact   \n",
       "1              2012           7                 1242          51.0       NaN   \n",
       "2              2014           5                 1995         105.0       NaN   \n",
       "3              2011           8                 1618         140.0       NaN   \n",
       "4              2012           7                 2993         180.0       NaN   \n",
       "\n",
       "   Vroom Audit Rating transmission door_count seat_count fuel_type       Price  \n",
       "0                   8          man       None       None    petrol   543764.25  \n",
       "1                   6          man          4          4    petrol   401819.25  \n",
       "2                   7         auto          4          5    diesel  2392855.50  \n",
       "3                   7          man          4          5    petrol   958606.50  \n",
       "4                   7         auto          4          5    diesel  3085561.50  "
      ]
     },
     "execution_count": 75,
     "metadata": {},
     "output_type": "execute_result"
    }
   ],
   "source": [
    "# reading the train data\n",
    "df = pd.read_csv(\"Training Data Set.csv\")\n",
    "df.head()"
   ]
  },
  {
   "cell_type": "markdown",
   "id": "7d85909d",
   "metadata": {
    "id": "7d85909d"
   },
   "source": [
    "### Explore the data"
   ]
  },
  {
   "cell_type": "code",
   "execution_count": 76,
   "id": "86ce34af",
   "metadata": {
    "colab": {
     "base_uri": "https://localhost:8080/"
    },
    "id": "86ce34af",
    "outputId": "cc038996-395e-4bc7-830f-0d08423ae0ed"
   },
   "outputs": [
    {
     "data": {
      "text/plain": [
       "(53515, 17)"
      ]
     },
     "execution_count": 76,
     "metadata": {},
     "output_type": "execute_result"
    }
   ],
   "source": [
    "## check the shape of the dataset\n",
    "df.shape"
   ]
  },
  {
   "cell_type": "code",
   "execution_count": 77,
   "id": "db0337c6",
   "metadata": {
    "colab": {
     "base_uri": "https://localhost:8080/"
    },
    "id": "db0337c6",
    "outputId": "d4dda861-318f-45e7-dc26-c7fd0f654108"
   },
   "outputs": [
    {
     "name": "stdout",
     "output_type": "stream",
     "text": [
      "<class 'pandas.core.frame.DataFrame'>\n",
      "RangeIndex: 53515 entries, 0 to 53514\n",
      "Data columns (total 17 columns):\n",
      " #   Column               Non-Null Count  Dtype  \n",
      "---  ------               --------------  -----  \n",
      " 0   Id                   53515 non-null  int64  \n",
      " 1   Maker                53515 non-null  object \n",
      " 2   model                53515 non-null  object \n",
      " 3   Location             53515 non-null  object \n",
      " 4   Distance             52304 non-null  float64\n",
      " 5   Owner Type           53515 non-null  object \n",
      " 6   manufacture_year     53515 non-null  int64  \n",
      " 7   Age of car           53515 non-null  int64  \n",
      " 8   engine_displacement  53515 non-null  int64  \n",
      " 9   engine_power         52076 non-null  float64\n",
      " 10  body_type            4136 non-null   object \n",
      " 11  Vroom Audit Rating   53515 non-null  int64  \n",
      " 12  transmission         53515 non-null  object \n",
      " 13  door_count           53515 non-null  object \n",
      " 14  seat_count           53515 non-null  object \n",
      " 15  fuel_type            53515 non-null  object \n",
      " 16  Price                53515 non-null  float64\n",
      "dtypes: float64(3), int64(5), object(9)\n",
      "memory usage: 6.9+ MB\n"
     ]
    }
   ],
   "source": [
    "## Lets check the basic information\n",
    "df.info()"
   ]
  },
  {
   "cell_type": "code",
   "execution_count": 78,
   "id": "b0f01711",
   "metadata": {
    "colab": {
     "base_uri": "https://localhost:8080/",
     "height": 300
    },
    "id": "b0f01711",
    "outputId": "c72d853d-092e-462a-e293-d358bc49f4d3"
   },
   "outputs": [
    {
     "data": {
      "text/html": [
       "\n",
       "  <div id=\"df-98c22ad6-e6d1-46ec-9a0c-3dff13c855fa\">\n",
       "    <div class=\"colab-df-container\">\n",
       "      <div>\n",
       "<style scoped>\n",
       "    .dataframe tbody tr th:only-of-type {\n",
       "        vertical-align: middle;\n",
       "    }\n",
       "\n",
       "    .dataframe tbody tr th {\n",
       "        vertical-align: top;\n",
       "    }\n",
       "\n",
       "    .dataframe thead th {\n",
       "        text-align: right;\n",
       "    }\n",
       "</style>\n",
       "<table border=\"1\" class=\"dataframe\">\n",
       "  <thead>\n",
       "    <tr style=\"text-align: right;\">\n",
       "      <th></th>\n",
       "      <th>Id</th>\n",
       "      <th>Distance</th>\n",
       "      <th>manufacture_year</th>\n",
       "      <th>Age of car</th>\n",
       "      <th>engine_displacement</th>\n",
       "      <th>engine_power</th>\n",
       "      <th>Vroom Audit Rating</th>\n",
       "      <th>Price</th>\n",
       "    </tr>\n",
       "  </thead>\n",
       "  <tbody>\n",
       "    <tr>\n",
       "      <th>count</th>\n",
       "      <td>53515.000000</td>\n",
       "      <td>5.230400e+04</td>\n",
       "      <td>53515.000000</td>\n",
       "      <td>53515.000000</td>\n",
       "      <td>53515.000000</td>\n",
       "      <td>52076.000000</td>\n",
       "      <td>53515.000000</td>\n",
       "      <td>5.351500e+04</td>\n",
       "    </tr>\n",
       "    <tr>\n",
       "      <th>mean</th>\n",
       "      <td>51758.000000</td>\n",
       "      <td>9.454626e+04</td>\n",
       "      <td>2010.408110</td>\n",
       "      <td>8.591890</td>\n",
       "      <td>1904.049014</td>\n",
       "      <td>100.448345</td>\n",
       "      <td>5.998374</td>\n",
       "      <td>1.098084e+06</td>\n",
       "    </tr>\n",
       "    <tr>\n",
       "      <th>std</th>\n",
       "      <td>15448.594165</td>\n",
       "      <td>2.755617e+05</td>\n",
       "      <td>4.650322</td>\n",
       "      <td>4.650322</td>\n",
       "      <td>1496.564596</td>\n",
       "      <td>45.330622</td>\n",
       "      <td>1.418336</td>\n",
       "      <td>8.441565e+05</td>\n",
       "    </tr>\n",
       "    <tr>\n",
       "      <th>min</th>\n",
       "      <td>25001.000000</td>\n",
       "      <td>0.000000e+00</td>\n",
       "      <td>1934.000000</td>\n",
       "      <td>3.000000</td>\n",
       "      <td>14.000000</td>\n",
       "      <td>10.000000</td>\n",
       "      <td>4.000000</td>\n",
       "      <td>3.000000e+00</td>\n",
       "    </tr>\n",
       "    <tr>\n",
       "      <th>25%</th>\n",
       "      <td>38379.500000</td>\n",
       "      <td>1.549000e+04</td>\n",
       "      <td>2008.000000</td>\n",
       "      <td>5.000000</td>\n",
       "      <td>1395.000000</td>\n",
       "      <td>73.000000</td>\n",
       "      <td>5.000000</td>\n",
       "      <td>5.051812e+05</td>\n",
       "    </tr>\n",
       "    <tr>\n",
       "      <th>50%</th>\n",
       "      <td>51758.000000</td>\n",
       "      <td>6.552000e+04</td>\n",
       "      <td>2011.000000</td>\n",
       "      <td>8.000000</td>\n",
       "      <td>1896.000000</td>\n",
       "      <td>91.000000</td>\n",
       "      <td>6.000000</td>\n",
       "      <td>8.854552e+05</td>\n",
       "    </tr>\n",
       "    <tr>\n",
       "      <th>75%</th>\n",
       "      <td>65136.500000</td>\n",
       "      <td>1.356410e+05</td>\n",
       "      <td>2014.000000</td>\n",
       "      <td>11.000000</td>\n",
       "      <td>1995.000000</td>\n",
       "      <td>125.000000</td>\n",
       "      <td>7.000000</td>\n",
       "      <td>1.477829e+06</td>\n",
       "    </tr>\n",
       "    <tr>\n",
       "      <th>max</th>\n",
       "      <td>78515.000000</td>\n",
       "      <td>9.899800e+06</td>\n",
       "      <td>2016.000000</td>\n",
       "      <td>85.000000</td>\n",
       "      <td>32000.000000</td>\n",
       "      <td>896.000000</td>\n",
       "      <td>8.000000</td>\n",
       "      <td>2.212078e+07</td>\n",
       "    </tr>\n",
       "  </tbody>\n",
       "</table>\n",
       "</div>\n",
       "      <button class=\"colab-df-convert\" onclick=\"convertToInteractive('df-98c22ad6-e6d1-46ec-9a0c-3dff13c855fa')\"\n",
       "              title=\"Convert this dataframe to an interactive table.\"\n",
       "              style=\"display:none;\">\n",
       "        \n",
       "  <svg xmlns=\"http://www.w3.org/2000/svg\" height=\"24px\"viewBox=\"0 0 24 24\"\n",
       "       width=\"24px\">\n",
       "    <path d=\"M0 0h24v24H0V0z\" fill=\"none\"/>\n",
       "    <path d=\"M18.56 5.44l.94 2.06.94-2.06 2.06-.94-2.06-.94-.94-2.06-.94 2.06-2.06.94zm-11 1L8.5 8.5l.94-2.06 2.06-.94-2.06-.94L8.5 2.5l-.94 2.06-2.06.94zm10 10l.94 2.06.94-2.06 2.06-.94-2.06-.94-.94-2.06-.94 2.06-2.06.94z\"/><path d=\"M17.41 7.96l-1.37-1.37c-.4-.4-.92-.59-1.43-.59-.52 0-1.04.2-1.43.59L10.3 9.45l-7.72 7.72c-.78.78-.78 2.05 0 2.83L4 21.41c.39.39.9.59 1.41.59.51 0 1.02-.2 1.41-.59l7.78-7.78 2.81-2.81c.8-.78.8-2.07 0-2.86zM5.41 20L4 18.59l7.72-7.72 1.47 1.35L5.41 20z\"/>\n",
       "  </svg>\n",
       "      </button>\n",
       "      \n",
       "  <style>\n",
       "    .colab-df-container {\n",
       "      display:flex;\n",
       "      flex-wrap:wrap;\n",
       "      gap: 12px;\n",
       "    }\n",
       "\n",
       "    .colab-df-convert {\n",
       "      background-color: #E8F0FE;\n",
       "      border: none;\n",
       "      border-radius: 50%;\n",
       "      cursor: pointer;\n",
       "      display: none;\n",
       "      fill: #1967D2;\n",
       "      height: 32px;\n",
       "      padding: 0 0 0 0;\n",
       "      width: 32px;\n",
       "    }\n",
       "\n",
       "    .colab-df-convert:hover {\n",
       "      background-color: #E2EBFA;\n",
       "      box-shadow: 0px 1px 2px rgba(60, 64, 67, 0.3), 0px 1px 3px 1px rgba(60, 64, 67, 0.15);\n",
       "      fill: #174EA6;\n",
       "    }\n",
       "\n",
       "    [theme=dark] .colab-df-convert {\n",
       "      background-color: #3B4455;\n",
       "      fill: #D2E3FC;\n",
       "    }\n",
       "\n",
       "    [theme=dark] .colab-df-convert:hover {\n",
       "      background-color: #434B5C;\n",
       "      box-shadow: 0px 1px 3px 1px rgba(0, 0, 0, 0.15);\n",
       "      filter: drop-shadow(0px 1px 2px rgba(0, 0, 0, 0.3));\n",
       "      fill: #FFFFFF;\n",
       "    }\n",
       "  </style>\n",
       "\n",
       "      <script>\n",
       "        const buttonEl =\n",
       "          document.querySelector('#df-98c22ad6-e6d1-46ec-9a0c-3dff13c855fa button.colab-df-convert');\n",
       "        buttonEl.style.display =\n",
       "          google.colab.kernel.accessAllowed ? 'block' : 'none';\n",
       "\n",
       "        async function convertToInteractive(key) {\n",
       "          const element = document.querySelector('#df-98c22ad6-e6d1-46ec-9a0c-3dff13c855fa');\n",
       "          const dataTable =\n",
       "            await google.colab.kernel.invokeFunction('convertToInteractive',\n",
       "                                                     [key], {});\n",
       "          if (!dataTable) return;\n",
       "\n",
       "          const docLinkHtml = 'Like what you see? Visit the ' +\n",
       "            '<a target=\"_blank\" href=https://colab.research.google.com/notebooks/data_table.ipynb>data table notebook</a>'\n",
       "            + ' to learn more about interactive tables.';\n",
       "          element.innerHTML = '';\n",
       "          dataTable['output_type'] = 'display_data';\n",
       "          await google.colab.output.renderOutput(dataTable, element);\n",
       "          const docLink = document.createElement('div');\n",
       "          docLink.innerHTML = docLinkHtml;\n",
       "          element.appendChild(docLink);\n",
       "        }\n",
       "      </script>\n",
       "    </div>\n",
       "  </div>\n",
       "  "
      ],
      "text/plain": [
       "                 Id     Distance   manufacture_year    Age of car  \\\n",
       "count  53515.000000  5.230400e+04      53515.000000  53515.000000   \n",
       "mean   51758.000000  9.454626e+04       2010.408110      8.591890   \n",
       "std    15448.594165  2.755617e+05          4.650322      4.650322   \n",
       "min    25001.000000  0.000000e+00       1934.000000      3.000000   \n",
       "25%    38379.500000  1.549000e+04       2008.000000      5.000000   \n",
       "50%    51758.000000  6.552000e+04       2011.000000      8.000000   \n",
       "75%    65136.500000  1.356410e+05       2014.000000     11.000000   \n",
       "max    78515.000000  9.899800e+06       2016.000000     85.000000   \n",
       "\n",
       "       engine_displacement  engine_power  Vroom Audit Rating         Price  \n",
       "count         53515.000000  52076.000000        53515.000000  5.351500e+04  \n",
       "mean           1904.049014    100.448345            5.998374  1.098084e+06  \n",
       "std            1496.564596     45.330622            1.418336  8.441565e+05  \n",
       "min              14.000000     10.000000            4.000000  3.000000e+00  \n",
       "25%            1395.000000     73.000000            5.000000  5.051812e+05  \n",
       "50%            1896.000000     91.000000            6.000000  8.854552e+05  \n",
       "75%            1995.000000    125.000000            7.000000  1.477829e+06  \n",
       "max           32000.000000    896.000000            8.000000  2.212078e+07  "
      ]
     },
     "execution_count": 78,
     "metadata": {},
     "output_type": "execute_result"
    }
   ],
   "source": [
    "## check statistical summary\n",
    "df.describe()"
   ]
  },
  {
   "cell_type": "code",
   "execution_count": 79,
   "id": "6bbd4f32",
   "metadata": {
    "colab": {
     "base_uri": "https://localhost:8080/",
     "height": 206
    },
    "id": "6bbd4f32",
    "outputId": "e0d67777-12a2-4867-8611-d29df9f3afe7"
   },
   "outputs": [
    {
     "data": {
      "text/html": [
       "\n",
       "  <div id=\"df-244960ed-3b9a-44f5-ad2b-e921b62ffbb4\">\n",
       "    <div class=\"colab-df-container\">\n",
       "      <div>\n",
       "<style scoped>\n",
       "    .dataframe tbody tr th:only-of-type {\n",
       "        vertical-align: middle;\n",
       "    }\n",
       "\n",
       "    .dataframe tbody tr th {\n",
       "        vertical-align: top;\n",
       "    }\n",
       "\n",
       "    .dataframe thead th {\n",
       "        text-align: right;\n",
       "    }\n",
       "</style>\n",
       "<table border=\"1\" class=\"dataframe\">\n",
       "  <thead>\n",
       "    <tr style=\"text-align: right;\">\n",
       "      <th></th>\n",
       "      <th>Maker</th>\n",
       "      <th>model</th>\n",
       "      <th>Location</th>\n",
       "      <th>Owner Type</th>\n",
       "      <th>body_type</th>\n",
       "      <th>transmission</th>\n",
       "      <th>door_count</th>\n",
       "      <th>seat_count</th>\n",
       "      <th>fuel_type</th>\n",
       "    </tr>\n",
       "  </thead>\n",
       "  <tbody>\n",
       "    <tr>\n",
       "      <th>0</th>\n",
       "      <td>skoda</td>\n",
       "      <td>octavia</td>\n",
       "      <td>Ahmedabad</td>\n",
       "      <td>Second</td>\n",
       "      <td>compact</td>\n",
       "      <td>man</td>\n",
       "      <td>None</td>\n",
       "      <td>None</td>\n",
       "      <td>petrol</td>\n",
       "    </tr>\n",
       "    <tr>\n",
       "      <th>1</th>\n",
       "      <td>fiat</td>\n",
       "      <td>panda</td>\n",
       "      <td>Ahmedabad</td>\n",
       "      <td>Third</td>\n",
       "      <td>NaN</td>\n",
       "      <td>man</td>\n",
       "      <td>4</td>\n",
       "      <td>4</td>\n",
       "      <td>petrol</td>\n",
       "    </tr>\n",
       "    <tr>\n",
       "      <th>2</th>\n",
       "      <td>bmw</td>\n",
       "      <td>x1</td>\n",
       "      <td>Hyderabad</td>\n",
       "      <td>Third</td>\n",
       "      <td>NaN</td>\n",
       "      <td>auto</td>\n",
       "      <td>4</td>\n",
       "      <td>5</td>\n",
       "      <td>diesel</td>\n",
       "    </tr>\n",
       "    <tr>\n",
       "      <th>3</th>\n",
       "      <td>nissan</td>\n",
       "      <td>juke</td>\n",
       "      <td>Mumbai</td>\n",
       "      <td>Third</td>\n",
       "      <td>NaN</td>\n",
       "      <td>man</td>\n",
       "      <td>4</td>\n",
       "      <td>5</td>\n",
       "      <td>petrol</td>\n",
       "    </tr>\n",
       "    <tr>\n",
       "      <th>4</th>\n",
       "      <td>bmw</td>\n",
       "      <td>x5</td>\n",
       "      <td>Jaipur</td>\n",
       "      <td>Fourth &amp; Above</td>\n",
       "      <td>NaN</td>\n",
       "      <td>auto</td>\n",
       "      <td>4</td>\n",
       "      <td>5</td>\n",
       "      <td>diesel</td>\n",
       "    </tr>\n",
       "  </tbody>\n",
       "</table>\n",
       "</div>\n",
       "      <button class=\"colab-df-convert\" onclick=\"convertToInteractive('df-244960ed-3b9a-44f5-ad2b-e921b62ffbb4')\"\n",
       "              title=\"Convert this dataframe to an interactive table.\"\n",
       "              style=\"display:none;\">\n",
       "        \n",
       "  <svg xmlns=\"http://www.w3.org/2000/svg\" height=\"24px\"viewBox=\"0 0 24 24\"\n",
       "       width=\"24px\">\n",
       "    <path d=\"M0 0h24v24H0V0z\" fill=\"none\"/>\n",
       "    <path d=\"M18.56 5.44l.94 2.06.94-2.06 2.06-.94-2.06-.94-.94-2.06-.94 2.06-2.06.94zm-11 1L8.5 8.5l.94-2.06 2.06-.94-2.06-.94L8.5 2.5l-.94 2.06-2.06.94zm10 10l.94 2.06.94-2.06 2.06-.94-2.06-.94-.94-2.06-.94 2.06-2.06.94z\"/><path d=\"M17.41 7.96l-1.37-1.37c-.4-.4-.92-.59-1.43-.59-.52 0-1.04.2-1.43.59L10.3 9.45l-7.72 7.72c-.78.78-.78 2.05 0 2.83L4 21.41c.39.39.9.59 1.41.59.51 0 1.02-.2 1.41-.59l7.78-7.78 2.81-2.81c.8-.78.8-2.07 0-2.86zM5.41 20L4 18.59l7.72-7.72 1.47 1.35L5.41 20z\"/>\n",
       "  </svg>\n",
       "      </button>\n",
       "      \n",
       "  <style>\n",
       "    .colab-df-container {\n",
       "      display:flex;\n",
       "      flex-wrap:wrap;\n",
       "      gap: 12px;\n",
       "    }\n",
       "\n",
       "    .colab-df-convert {\n",
       "      background-color: #E8F0FE;\n",
       "      border: none;\n",
       "      border-radius: 50%;\n",
       "      cursor: pointer;\n",
       "      display: none;\n",
       "      fill: #1967D2;\n",
       "      height: 32px;\n",
       "      padding: 0 0 0 0;\n",
       "      width: 32px;\n",
       "    }\n",
       "\n",
       "    .colab-df-convert:hover {\n",
       "      background-color: #E2EBFA;\n",
       "      box-shadow: 0px 1px 2px rgba(60, 64, 67, 0.3), 0px 1px 3px 1px rgba(60, 64, 67, 0.15);\n",
       "      fill: #174EA6;\n",
       "    }\n",
       "\n",
       "    [theme=dark] .colab-df-convert {\n",
       "      background-color: #3B4455;\n",
       "      fill: #D2E3FC;\n",
       "    }\n",
       "\n",
       "    [theme=dark] .colab-df-convert:hover {\n",
       "      background-color: #434B5C;\n",
       "      box-shadow: 0px 1px 3px 1px rgba(0, 0, 0, 0.15);\n",
       "      filter: drop-shadow(0px 1px 2px rgba(0, 0, 0, 0.3));\n",
       "      fill: #FFFFFF;\n",
       "    }\n",
       "  </style>\n",
       "\n",
       "      <script>\n",
       "        const buttonEl =\n",
       "          document.querySelector('#df-244960ed-3b9a-44f5-ad2b-e921b62ffbb4 button.colab-df-convert');\n",
       "        buttonEl.style.display =\n",
       "          google.colab.kernel.accessAllowed ? 'block' : 'none';\n",
       "\n",
       "        async function convertToInteractive(key) {\n",
       "          const element = document.querySelector('#df-244960ed-3b9a-44f5-ad2b-e921b62ffbb4');\n",
       "          const dataTable =\n",
       "            await google.colab.kernel.invokeFunction('convertToInteractive',\n",
       "                                                     [key], {});\n",
       "          if (!dataTable) return;\n",
       "\n",
       "          const docLinkHtml = 'Like what you see? Visit the ' +\n",
       "            '<a target=\"_blank\" href=https://colab.research.google.com/notebooks/data_table.ipynb>data table notebook</a>'\n",
       "            + ' to learn more about interactive tables.';\n",
       "          element.innerHTML = '';\n",
       "          dataTable['output_type'] = 'display_data';\n",
       "          await google.colab.output.renderOutput(dataTable, element);\n",
       "          const docLink = document.createElement('div');\n",
       "          docLink.innerHTML = docLinkHtml;\n",
       "          element.appendChild(docLink);\n",
       "        }\n",
       "      </script>\n",
       "    </div>\n",
       "  </div>\n",
       "  "
      ],
      "text/plain": [
       "    Maker    model   Location      Owner Type body_type transmission  \\\n",
       "0   skoda  octavia  Ahmedabad          Second   compact          man   \n",
       "1    fiat    panda  Ahmedabad           Third       NaN          man   \n",
       "2     bmw       x1  Hyderabad           Third       NaN         auto   \n",
       "3  nissan     juke     Mumbai           Third       NaN          man   \n",
       "4     bmw       x5     Jaipur  Fourth & Above       NaN         auto   \n",
       "\n",
       "  door_count seat_count fuel_type  \n",
       "0       None       None    petrol  \n",
       "1          4          4    petrol  \n",
       "2          4          5    diesel  \n",
       "3          4          5    petrol  \n",
       "4          4          5    diesel  "
      ]
     },
     "execution_count": 79,
     "metadata": {},
     "output_type": "execute_result"
    }
   ],
   "source": [
    "## select categorical columns\n",
    "df.select_dtypes(include=object).head()"
   ]
  },
  {
   "cell_type": "code",
   "execution_count": 80,
   "id": "hGN7ibbirTiK",
   "metadata": {
    "colab": {
     "base_uri": "https://localhost:8080/",
     "height": 175
    },
    "id": "hGN7ibbirTiK",
    "outputId": "9b5fdfcc-23b6-45ec-9d5b-45484f2e79c3"
   },
   "outputs": [
    {
     "data": {
      "text/html": [
       "\n",
       "  <div id=\"df-bf4a3d12-18f1-4038-a630-79f23785d242\">\n",
       "    <div class=\"colab-df-container\">\n",
       "      <div>\n",
       "<style scoped>\n",
       "    .dataframe tbody tr th:only-of-type {\n",
       "        vertical-align: middle;\n",
       "    }\n",
       "\n",
       "    .dataframe tbody tr th {\n",
       "        vertical-align: top;\n",
       "    }\n",
       "\n",
       "    .dataframe thead th {\n",
       "        text-align: right;\n",
       "    }\n",
       "</style>\n",
       "<table border=\"1\" class=\"dataframe\">\n",
       "  <thead>\n",
       "    <tr style=\"text-align: right;\">\n",
       "      <th></th>\n",
       "      <th>Maker</th>\n",
       "      <th>model</th>\n",
       "      <th>Location</th>\n",
       "      <th>Owner Type</th>\n",
       "      <th>body_type</th>\n",
       "      <th>transmission</th>\n",
       "      <th>door_count</th>\n",
       "      <th>seat_count</th>\n",
       "      <th>fuel_type</th>\n",
       "    </tr>\n",
       "  </thead>\n",
       "  <tbody>\n",
       "    <tr>\n",
       "      <th>count</th>\n",
       "      <td>53515</td>\n",
       "      <td>53515</td>\n",
       "      <td>53515</td>\n",
       "      <td>53515</td>\n",
       "      <td>4136</td>\n",
       "      <td>53515</td>\n",
       "      <td>53515</td>\n",
       "      <td>53515</td>\n",
       "      <td>53515</td>\n",
       "    </tr>\n",
       "    <tr>\n",
       "      <th>unique</th>\n",
       "      <td>8</td>\n",
       "      <td>23</td>\n",
       "      <td>11</td>\n",
       "      <td>4</td>\n",
       "      <td>2</td>\n",
       "      <td>2</td>\n",
       "      <td>7</td>\n",
       "      <td>10</td>\n",
       "      <td>2</td>\n",
       "    </tr>\n",
       "    <tr>\n",
       "      <th>top</th>\n",
       "      <td>skoda</td>\n",
       "      <td>octavia</td>\n",
       "      <td>Coimbatore</td>\n",
       "      <td>First</td>\n",
       "      <td>compact</td>\n",
       "      <td>man</td>\n",
       "      <td>4</td>\n",
       "      <td>5</td>\n",
       "      <td>diesel</td>\n",
       "    </tr>\n",
       "    <tr>\n",
       "      <th>freq</th>\n",
       "      <td>21563</td>\n",
       "      <td>12619</td>\n",
       "      <td>4976</td>\n",
       "      <td>13406</td>\n",
       "      <td>4127</td>\n",
       "      <td>36734</td>\n",
       "      <td>33808</td>\n",
       "      <td>38824</td>\n",
       "      <td>27559</td>\n",
       "    </tr>\n",
       "  </tbody>\n",
       "</table>\n",
       "</div>\n",
       "      <button class=\"colab-df-convert\" onclick=\"convertToInteractive('df-bf4a3d12-18f1-4038-a630-79f23785d242')\"\n",
       "              title=\"Convert this dataframe to an interactive table.\"\n",
       "              style=\"display:none;\">\n",
       "        \n",
       "  <svg xmlns=\"http://www.w3.org/2000/svg\" height=\"24px\"viewBox=\"0 0 24 24\"\n",
       "       width=\"24px\">\n",
       "    <path d=\"M0 0h24v24H0V0z\" fill=\"none\"/>\n",
       "    <path d=\"M18.56 5.44l.94 2.06.94-2.06 2.06-.94-2.06-.94-.94-2.06-.94 2.06-2.06.94zm-11 1L8.5 8.5l.94-2.06 2.06-.94-2.06-.94L8.5 2.5l-.94 2.06-2.06.94zm10 10l.94 2.06.94-2.06 2.06-.94-2.06-.94-.94-2.06-.94 2.06-2.06.94z\"/><path d=\"M17.41 7.96l-1.37-1.37c-.4-.4-.92-.59-1.43-.59-.52 0-1.04.2-1.43.59L10.3 9.45l-7.72 7.72c-.78.78-.78 2.05 0 2.83L4 21.41c.39.39.9.59 1.41.59.51 0 1.02-.2 1.41-.59l7.78-7.78 2.81-2.81c.8-.78.8-2.07 0-2.86zM5.41 20L4 18.59l7.72-7.72 1.47 1.35L5.41 20z\"/>\n",
       "  </svg>\n",
       "      </button>\n",
       "      \n",
       "  <style>\n",
       "    .colab-df-container {\n",
       "      display:flex;\n",
       "      flex-wrap:wrap;\n",
       "      gap: 12px;\n",
       "    }\n",
       "\n",
       "    .colab-df-convert {\n",
       "      background-color: #E8F0FE;\n",
       "      border: none;\n",
       "      border-radius: 50%;\n",
       "      cursor: pointer;\n",
       "      display: none;\n",
       "      fill: #1967D2;\n",
       "      height: 32px;\n",
       "      padding: 0 0 0 0;\n",
       "      width: 32px;\n",
       "    }\n",
       "\n",
       "    .colab-df-convert:hover {\n",
       "      background-color: #E2EBFA;\n",
       "      box-shadow: 0px 1px 2px rgba(60, 64, 67, 0.3), 0px 1px 3px 1px rgba(60, 64, 67, 0.15);\n",
       "      fill: #174EA6;\n",
       "    }\n",
       "\n",
       "    [theme=dark] .colab-df-convert {\n",
       "      background-color: #3B4455;\n",
       "      fill: #D2E3FC;\n",
       "    }\n",
       "\n",
       "    [theme=dark] .colab-df-convert:hover {\n",
       "      background-color: #434B5C;\n",
       "      box-shadow: 0px 1px 3px 1px rgba(0, 0, 0, 0.15);\n",
       "      filter: drop-shadow(0px 1px 2px rgba(0, 0, 0, 0.3));\n",
       "      fill: #FFFFFF;\n",
       "    }\n",
       "  </style>\n",
       "\n",
       "      <script>\n",
       "        const buttonEl =\n",
       "          document.querySelector('#df-bf4a3d12-18f1-4038-a630-79f23785d242 button.colab-df-convert');\n",
       "        buttonEl.style.display =\n",
       "          google.colab.kernel.accessAllowed ? 'block' : 'none';\n",
       "\n",
       "        async function convertToInteractive(key) {\n",
       "          const element = document.querySelector('#df-bf4a3d12-18f1-4038-a630-79f23785d242');\n",
       "          const dataTable =\n",
       "            await google.colab.kernel.invokeFunction('convertToInteractive',\n",
       "                                                     [key], {});\n",
       "          if (!dataTable) return;\n",
       "\n",
       "          const docLinkHtml = 'Like what you see? Visit the ' +\n",
       "            '<a target=\"_blank\" href=https://colab.research.google.com/notebooks/data_table.ipynb>data table notebook</a>'\n",
       "            + ' to learn more about interactive tables.';\n",
       "          element.innerHTML = '';\n",
       "          dataTable['output_type'] = 'display_data';\n",
       "          await google.colab.output.renderOutput(dataTable, element);\n",
       "          const docLink = document.createElement('div');\n",
       "          docLink.innerHTML = docLinkHtml;\n",
       "          element.appendChild(docLink);\n",
       "        }\n",
       "      </script>\n",
       "    </div>\n",
       "  </div>\n",
       "  "
      ],
      "text/plain": [
       "        Maker    model    Location Owner Type body_type transmission  \\\n",
       "count   53515    53515       53515      53515      4136        53515   \n",
       "unique      8       23          11          4         2            2   \n",
       "top     skoda  octavia  Coimbatore      First   compact          man   \n",
       "freq    21563    12619        4976      13406      4127        36734   \n",
       "\n",
       "       door_count seat_count fuel_type  \n",
       "count       53515      53515     53515  \n",
       "unique          7         10         2  \n",
       "top             4          5    diesel  \n",
       "freq        33808      38824     27559  "
      ]
     },
     "execution_count": 80,
     "metadata": {},
     "output_type": "execute_result"
    }
   ],
   "source": [
    "#summary of the categorical features\n",
    "df.select_dtypes(include=object).describe()"
   ]
  },
  {
   "cell_type": "markdown",
   "id": "18bacd0e",
   "metadata": {
    "id": "18bacd0e"
   },
   "source": [
    "### Data Preprocessing"
   ]
  },
  {
   "cell_type": "code",
   "execution_count": 81,
   "id": "5bdb911b",
   "metadata": {
    "colab": {
     "base_uri": "https://localhost:8080/"
    },
    "id": "5bdb911b",
    "outputId": "16eaf255-5905-4537-8e48-ca5cc6065986"
   },
   "outputs": [
    {
     "data": {
      "text/plain": [
       "array(['None', '4', '5', '2', '3', '1', '6'], dtype=object)"
      ]
     },
     "execution_count": 81,
     "metadata": {},
     "output_type": "execute_result"
    }
   ],
   "source": [
    "# checking the unique values for various features\n",
    "df['door_count'].unique()"
   ]
  },
  {
   "cell_type": "code",
   "execution_count": 82,
   "id": "49f884bb",
   "metadata": {
    "colab": {
     "base_uri": "https://localhost:8080/"
    },
    "id": "49f884bb",
    "outputId": "bcf3e587-6ffa-40cb-cf2d-251007472029"
   },
   "outputs": [
    {
     "data": {
      "text/plain": [
       "array(['None', '4', '5', '2', '3', '7', '6', '1', '9', '8'], dtype=object)"
      ]
     },
     "execution_count": 82,
     "metadata": {},
     "output_type": "execute_result"
    }
   ],
   "source": [
    "df['seat_count'].unique()"
   ]
  },
  {
   "cell_type": "code",
   "execution_count": 83,
   "id": "tSJp6hXarlm7",
   "metadata": {
    "colab": {
     "base_uri": "https://localhost:8080/"
    },
    "id": "tSJp6hXarlm7",
    "outputId": "e6fa33d3-004e-42bd-c8bc-697cf2de5317"
   },
   "outputs": [
    {
     "data": {
      "text/plain": [
       "array(['man', 'auto'], dtype=object)"
      ]
     },
     "execution_count": 83,
     "metadata": {},
     "output_type": "execute_result"
    }
   ],
   "source": [
    "df['transmission'].unique()"
   ]
  },
  {
   "cell_type": "code",
   "execution_count": 84,
   "id": "dfc2c3ae",
   "metadata": {
    "id": "dfc2c3ae"
   },
   "outputs": [],
   "source": [
    "## replacing \"None\" in 'door_count' and 'seat_count' as np.nan \n",
    "## converting datatype from object to float \n",
    "\n",
    "df.door_count.replace('None', np.NaN, inplace = True)\n",
    "df.seat_count.replace('None', np.NaN, inplace = True)\n",
    "df.door_count = df.door_count.astype('float')\n",
    "df.seat_count = df.seat_count.astype('float')"
   ]
  },
  {
   "cell_type": "code",
   "execution_count": 85,
   "id": "57d7279b",
   "metadata": {
    "colab": {
     "base_uri": "https://localhost:8080/"
    },
    "id": "57d7279b",
    "outputId": "c4c3ebf0-6fa2-4d84-c1e3-85241b90a360"
   },
   "outputs": [
    {
     "data": {
      "text/plain": [
       "0"
      ]
     },
     "execution_count": 85,
     "metadata": {},
     "output_type": "execute_result"
    }
   ],
   "source": [
    "## check for duplicate records\n",
    "len(df[df.duplicated()])"
   ]
  },
  {
   "cell_type": "code",
   "execution_count": 86,
   "id": "16bac7b1",
   "metadata": {
    "colab": {
     "base_uri": "https://localhost:8080/"
    },
    "id": "16bac7b1",
    "outputId": "9f7d3649-c939-4039-c4a7-0382aa52ca18"
   },
   "outputs": [
    {
     "data": {
      "text/plain": [
       "Id                     0.000000\n",
       "Maker                  0.000000\n",
       "model                  0.000000\n",
       "Location               0.000000\n",
       "Distance               0.022629\n",
       "Owner Type             0.000000\n",
       "manufacture_year       0.000000\n",
       "Age of car             0.000000\n",
       "engine_displacement    0.000000\n",
       "engine_power           0.026890\n",
       "body_type              0.922713\n",
       "Vroom Audit Rating     0.000000\n",
       "transmission           0.000000\n",
       "door_count             0.140783\n",
       "seat_count             0.159040\n",
       "fuel_type              0.000000\n",
       "Price                  0.000000\n",
       "dtype: float64"
      ]
     },
     "execution_count": 86,
     "metadata": {},
     "output_type": "execute_result"
    }
   ],
   "source": [
    "## check for the missing values\n",
    "df.isna().sum()/df.shape[0]"
   ]
  },
  {
   "cell_type": "code",
   "execution_count": 87,
   "id": "ac06e110",
   "metadata": {
    "id": "ac06e110"
   },
   "outputs": [],
   "source": [
    "## Missing value imputation\n",
    "df['Distance '].fillna(df['Distance '].median(), inplace = True)\n",
    "df['engine_power'].fillna(df['engine_power'].median(), inplace = True)\n",
    "df.door_count.fillna(int(df['door_count'].mode()), inplace = True)\n",
    "df.seat_count.fillna(int(df['seat_count'].mode()), inplace = True)\n",
    "\n",
    "df.drop(columns= 'body_type', inplace= True)   # Too many missing values in body_type hence we drop it"
   ]
  },
  {
   "cell_type": "code",
   "execution_count": 88,
   "id": "781abc01",
   "metadata": {
    "id": "781abc01"
   },
   "outputs": [],
   "source": [
    "## Dropping redundant columns\n",
    "df.drop(['Id','model','Location','manufacture_year'],axis=1,inplace=True)"
   ]
  },
  {
   "cell_type": "code",
   "execution_count": 89,
   "id": "b360c873",
   "metadata": {
    "colab": {
     "base_uri": "https://localhost:8080/"
    },
    "id": "b360c873",
    "outputId": "34fd74e9-6a44-4c0e-9a22-e5259d62a1ab"
   },
   "outputs": [
    {
     "data": {
      "text/plain": [
       "1    13406\n",
       "3    13395\n",
       "2    13365\n",
       "4    13349\n",
       "Name: Owner Type, dtype: int64"
      ]
     },
     "execution_count": 89,
     "metadata": {},
     "output_type": "execute_result"
    }
   ],
   "source": [
    "## Imputing column 'Owner_type'\n",
    "df['Owner Type'] = df['Owner Type'].replace({'First':1,'Second':2,'Third':3,'Fourth & Above':4})\n",
    "df['Owner Type'].value_counts()"
   ]
  },
  {
   "cell_type": "code",
   "execution_count": 90,
   "id": "a99ade32",
   "metadata": {
    "colab": {
     "base_uri": "https://localhost:8080/"
    },
    "id": "a99ade32",
    "outputId": "31ef9b23-ecba-4c2c-9502-b3937f77ef90"
   },
   "outputs": [
    {
     "name": "stdout",
     "output_type": "stream",
     "text": [
      "(53515, 12)\n"
     ]
    },
    {
     "data": {
      "text/plain": [
       "Maker                  0\n",
       "Distance               0\n",
       "Owner Type             0\n",
       "Age of car             0\n",
       "engine_displacement    0\n",
       "engine_power           0\n",
       "Vroom Audit Rating     0\n",
       "transmission           0\n",
       "door_count             0\n",
       "seat_count             0\n",
       "fuel_type              0\n",
       "Price                  0\n",
       "dtype: int64"
      ]
     },
     "execution_count": 90,
     "metadata": {},
     "output_type": "execute_result"
    }
   ],
   "source": [
    "## recheck the missing values\n",
    "print(df.shape)\n",
    "df.isna().sum()"
   ]
  },
  {
   "cell_type": "code",
   "execution_count": 91,
   "id": "5a3762b4",
   "metadata": {
    "colab": {
     "base_uri": "https://localhost:8080/",
     "height": 267
    },
    "id": "5a3762b4",
    "outputId": "8123645f-b869-4250-e83c-df5483260238"
   },
   "outputs": [
    {
     "data": {
      "text/html": [
       "\n",
       "  <div id=\"df-96be6180-d144-4334-b69a-4933caa917c6\">\n",
       "    <div class=\"colab-df-container\">\n",
       "      <div>\n",
       "<style scoped>\n",
       "    .dataframe tbody tr th:only-of-type {\n",
       "        vertical-align: middle;\n",
       "    }\n",
       "\n",
       "    .dataframe tbody tr th {\n",
       "        vertical-align: top;\n",
       "    }\n",
       "\n",
       "    .dataframe thead th {\n",
       "        text-align: right;\n",
       "    }\n",
       "</style>\n",
       "<table border=\"1\" class=\"dataframe\">\n",
       "  <thead>\n",
       "    <tr style=\"text-align: right;\">\n",
       "      <th></th>\n",
       "      <th>Maker</th>\n",
       "      <th>Distance</th>\n",
       "      <th>Owner Type</th>\n",
       "      <th>Age of car</th>\n",
       "      <th>engine_displacement</th>\n",
       "      <th>engine_power</th>\n",
       "      <th>Vroom Audit Rating</th>\n",
       "      <th>transmission</th>\n",
       "      <th>door_count</th>\n",
       "      <th>seat_count</th>\n",
       "      <th>fuel_type</th>\n",
       "      <th>Price</th>\n",
       "    </tr>\n",
       "  </thead>\n",
       "  <tbody>\n",
       "    <tr>\n",
       "      <th>0</th>\n",
       "      <td>skoda</td>\n",
       "      <td>65520.0</td>\n",
       "      <td>2</td>\n",
       "      <td>55</td>\n",
       "      <td>1964</td>\n",
       "      <td>147.0</td>\n",
       "      <td>8</td>\n",
       "      <td>man</td>\n",
       "      <td>4.0</td>\n",
       "      <td>5.0</td>\n",
       "      <td>petrol</td>\n",
       "      <td>543764.25</td>\n",
       "    </tr>\n",
       "    <tr>\n",
       "      <th>1</th>\n",
       "      <td>fiat</td>\n",
       "      <td>27750.0</td>\n",
       "      <td>3</td>\n",
       "      <td>7</td>\n",
       "      <td>1242</td>\n",
       "      <td>51.0</td>\n",
       "      <td>6</td>\n",
       "      <td>man</td>\n",
       "      <td>4.0</td>\n",
       "      <td>4.0</td>\n",
       "      <td>petrol</td>\n",
       "      <td>401819.25</td>\n",
       "    </tr>\n",
       "    <tr>\n",
       "      <th>2</th>\n",
       "      <td>bmw</td>\n",
       "      <td>46000.0</td>\n",
       "      <td>3</td>\n",
       "      <td>5</td>\n",
       "      <td>1995</td>\n",
       "      <td>105.0</td>\n",
       "      <td>7</td>\n",
       "      <td>auto</td>\n",
       "      <td>4.0</td>\n",
       "      <td>5.0</td>\n",
       "      <td>diesel</td>\n",
       "      <td>2392855.50</td>\n",
       "    </tr>\n",
       "    <tr>\n",
       "      <th>3</th>\n",
       "      <td>nissan</td>\n",
       "      <td>43949.0</td>\n",
       "      <td>3</td>\n",
       "      <td>8</td>\n",
       "      <td>1618</td>\n",
       "      <td>140.0</td>\n",
       "      <td>7</td>\n",
       "      <td>man</td>\n",
       "      <td>4.0</td>\n",
       "      <td>5.0</td>\n",
       "      <td>petrol</td>\n",
       "      <td>958606.50</td>\n",
       "    </tr>\n",
       "    <tr>\n",
       "      <th>4</th>\n",
       "      <td>bmw</td>\n",
       "      <td>59524.0</td>\n",
       "      <td>4</td>\n",
       "      <td>7</td>\n",
       "      <td>2993</td>\n",
       "      <td>180.0</td>\n",
       "      <td>7</td>\n",
       "      <td>auto</td>\n",
       "      <td>4.0</td>\n",
       "      <td>5.0</td>\n",
       "      <td>diesel</td>\n",
       "      <td>3085561.50</td>\n",
       "    </tr>\n",
       "  </tbody>\n",
       "</table>\n",
       "</div>\n",
       "      <button class=\"colab-df-convert\" onclick=\"convertToInteractive('df-96be6180-d144-4334-b69a-4933caa917c6')\"\n",
       "              title=\"Convert this dataframe to an interactive table.\"\n",
       "              style=\"display:none;\">\n",
       "        \n",
       "  <svg xmlns=\"http://www.w3.org/2000/svg\" height=\"24px\"viewBox=\"0 0 24 24\"\n",
       "       width=\"24px\">\n",
       "    <path d=\"M0 0h24v24H0V0z\" fill=\"none\"/>\n",
       "    <path d=\"M18.56 5.44l.94 2.06.94-2.06 2.06-.94-2.06-.94-.94-2.06-.94 2.06-2.06.94zm-11 1L8.5 8.5l.94-2.06 2.06-.94-2.06-.94L8.5 2.5l-.94 2.06-2.06.94zm10 10l.94 2.06.94-2.06 2.06-.94-2.06-.94-.94-2.06-.94 2.06-2.06.94z\"/><path d=\"M17.41 7.96l-1.37-1.37c-.4-.4-.92-.59-1.43-.59-.52 0-1.04.2-1.43.59L10.3 9.45l-7.72 7.72c-.78.78-.78 2.05 0 2.83L4 21.41c.39.39.9.59 1.41.59.51 0 1.02-.2 1.41-.59l7.78-7.78 2.81-2.81c.8-.78.8-2.07 0-2.86zM5.41 20L4 18.59l7.72-7.72 1.47 1.35L5.41 20z\"/>\n",
       "  </svg>\n",
       "      </button>\n",
       "      \n",
       "  <style>\n",
       "    .colab-df-container {\n",
       "      display:flex;\n",
       "      flex-wrap:wrap;\n",
       "      gap: 12px;\n",
       "    }\n",
       "\n",
       "    .colab-df-convert {\n",
       "      background-color: #E8F0FE;\n",
       "      border: none;\n",
       "      border-radius: 50%;\n",
       "      cursor: pointer;\n",
       "      display: none;\n",
       "      fill: #1967D2;\n",
       "      height: 32px;\n",
       "      padding: 0 0 0 0;\n",
       "      width: 32px;\n",
       "    }\n",
       "\n",
       "    .colab-df-convert:hover {\n",
       "      background-color: #E2EBFA;\n",
       "      box-shadow: 0px 1px 2px rgba(60, 64, 67, 0.3), 0px 1px 3px 1px rgba(60, 64, 67, 0.15);\n",
       "      fill: #174EA6;\n",
       "    }\n",
       "\n",
       "    [theme=dark] .colab-df-convert {\n",
       "      background-color: #3B4455;\n",
       "      fill: #D2E3FC;\n",
       "    }\n",
       "\n",
       "    [theme=dark] .colab-df-convert:hover {\n",
       "      background-color: #434B5C;\n",
       "      box-shadow: 0px 1px 3px 1px rgba(0, 0, 0, 0.15);\n",
       "      filter: drop-shadow(0px 1px 2px rgba(0, 0, 0, 0.3));\n",
       "      fill: #FFFFFF;\n",
       "    }\n",
       "  </style>\n",
       "\n",
       "      <script>\n",
       "        const buttonEl =\n",
       "          document.querySelector('#df-96be6180-d144-4334-b69a-4933caa917c6 button.colab-df-convert');\n",
       "        buttonEl.style.display =\n",
       "          google.colab.kernel.accessAllowed ? 'block' : 'none';\n",
       "\n",
       "        async function convertToInteractive(key) {\n",
       "          const element = document.querySelector('#df-96be6180-d144-4334-b69a-4933caa917c6');\n",
       "          const dataTable =\n",
       "            await google.colab.kernel.invokeFunction('convertToInteractive',\n",
       "                                                     [key], {});\n",
       "          if (!dataTable) return;\n",
       "\n",
       "          const docLinkHtml = 'Like what you see? Visit the ' +\n",
       "            '<a target=\"_blank\" href=https://colab.research.google.com/notebooks/data_table.ipynb>data table notebook</a>'\n",
       "            + ' to learn more about interactive tables.';\n",
       "          element.innerHTML = '';\n",
       "          dataTable['output_type'] = 'display_data';\n",
       "          await google.colab.output.renderOutput(dataTable, element);\n",
       "          const docLink = document.createElement('div');\n",
       "          docLink.innerHTML = docLinkHtml;\n",
       "          element.appendChild(docLink);\n",
       "        }\n",
       "      </script>\n",
       "    </div>\n",
       "  </div>\n",
       "  "
      ],
      "text/plain": [
       "    Maker  Distance   Owner Type  Age of car  engine_displacement  \\\n",
       "0   skoda    65520.0           2          55                 1964   \n",
       "1    fiat    27750.0           3           7                 1242   \n",
       "2     bmw    46000.0           3           5                 1995   \n",
       "3  nissan    43949.0           3           8                 1618   \n",
       "4     bmw    59524.0           4           7                 2993   \n",
       "\n",
       "   engine_power  Vroom Audit Rating transmission  door_count  seat_count  \\\n",
       "0         147.0                   8          man         4.0         5.0   \n",
       "1          51.0                   6          man         4.0         4.0   \n",
       "2         105.0                   7         auto         4.0         5.0   \n",
       "3         140.0                   7          man         4.0         5.0   \n",
       "4         180.0                   7         auto         4.0         5.0   \n",
       "\n",
       "  fuel_type       Price  \n",
       "0    petrol   543764.25  \n",
       "1    petrol   401819.25  \n",
       "2    diesel  2392855.50  \n",
       "3    petrol   958606.50  \n",
       "4    diesel  3085561.50  "
      ]
     },
     "execution_count": 91,
     "metadata": {},
     "output_type": "execute_result"
    }
   ],
   "source": [
    "df.head(5)"
   ]
  },
  {
   "cell_type": "code",
   "execution_count": 92,
   "id": "c21c6b0a",
   "metadata": {
    "colab": {
     "base_uri": "https://localhost:8080/"
    },
    "id": "c21c6b0a",
    "outputId": "0cc33a03-64d9-4d04-c15b-8c4219dc8408"
   },
   "outputs": [
    {
     "data": {
      "text/plain": [
       "['Maker', 'transmission', 'fuel_type']"
      ]
     },
     "execution_count": 92,
     "metadata": {},
     "output_type": "execute_result"
    }
   ],
   "source": [
    "## select object datatype variables\n",
    "object_type_variables = [i for i in df.columns if df.dtypes[i] == object]\n",
    "object_type_variables "
   ]
  },
  {
   "cell_type": "code",
   "execution_count": 93,
   "id": "9fhE-BAVxD_w",
   "metadata": {
    "colab": {
     "base_uri": "https://localhost:8080/"
    },
    "id": "9fhE-BAVxD_w",
    "outputId": "fd1b330c-1c96-4785-f077-f680240c62d6"
   },
   "outputs": [
    {
     "data": {
      "text/plain": [
       "skoda       21563\n",
       "toyota       7840\n",
       "audi         7326\n",
       "bmw          7178\n",
       "nissan       5485\n",
       "hyundai      2240\n",
       "fiat         1845\n",
       "maserati       38\n",
       "Name: Maker, dtype: int64"
      ]
     },
     "execution_count": 93,
     "metadata": {},
     "output_type": "execute_result"
    }
   ],
   "source": [
    "df['Maker'].value_counts()"
   ]
  },
  {
   "cell_type": "code",
   "execution_count": 94,
   "id": "GFKVjwHIxI6E",
   "metadata": {
    "colab": {
     "base_uri": "https://localhost:8080/"
    },
    "id": "GFKVjwHIxI6E",
    "outputId": "5dab97e5-dcbb-4f98-94ec-91d7f2317863"
   },
   "outputs": [
    {
     "data": {
      "text/plain": [
       "diesel    27559\n",
       "petrol    25956\n",
       "Name: fuel_type, dtype: int64"
      ]
     },
     "execution_count": 94,
     "metadata": {},
     "output_type": "execute_result"
    }
   ],
   "source": [
    "df['fuel_type'].value_counts()"
   ]
  },
  {
   "cell_type": "code",
   "execution_count": 95,
   "id": "VdqY11SRsEoX",
   "metadata": {
    "colab": {
     "base_uri": "https://localhost:8080/",
     "height": 173
    },
    "id": "VdqY11SRsEoX",
    "outputId": "c7942d72-3ceb-41e3-fb39-a215b44e9ae3"
   },
   "outputs": [
    {
     "data": {
      "text/html": [
       "\n",
       "  <div id=\"df-d117af24-4d6c-4605-b4dd-9e35fa891ec8\">\n",
       "    <div class=\"colab-df-container\">\n",
       "      <div>\n",
       "<style scoped>\n",
       "    .dataframe tbody tr th:only-of-type {\n",
       "        vertical-align: middle;\n",
       "    }\n",
       "\n",
       "    .dataframe tbody tr th {\n",
       "        vertical-align: top;\n",
       "    }\n",
       "\n",
       "    .dataframe thead th {\n",
       "        text-align: right;\n",
       "    }\n",
       "</style>\n",
       "<table border=\"1\" class=\"dataframe\">\n",
       "  <thead>\n",
       "    <tr style=\"text-align: right;\">\n",
       "      <th></th>\n",
       "      <th>Maker</th>\n",
       "      <th>Distance</th>\n",
       "      <th>Owner Type</th>\n",
       "      <th>Age of car</th>\n",
       "      <th>engine_displacement</th>\n",
       "      <th>engine_power</th>\n",
       "      <th>Vroom Audit Rating</th>\n",
       "      <th>transmission</th>\n",
       "      <th>door_count</th>\n",
       "      <th>seat_count</th>\n",
       "      <th>fuel_type</th>\n",
       "      <th>Price</th>\n",
       "    </tr>\n",
       "  </thead>\n",
       "  <tbody>\n",
       "    <tr>\n",
       "      <th>0</th>\n",
       "      <td>skoda</td>\n",
       "      <td>65520.0</td>\n",
       "      <td>2</td>\n",
       "      <td>55</td>\n",
       "      <td>1964</td>\n",
       "      <td>147.0</td>\n",
       "      <td>8</td>\n",
       "      <td>man</td>\n",
       "      <td>4.0</td>\n",
       "      <td>5.0</td>\n",
       "      <td>petrol</td>\n",
       "      <td>543764.25</td>\n",
       "    </tr>\n",
       "    <tr>\n",
       "      <th>1</th>\n",
       "      <td>fiat</td>\n",
       "      <td>27750.0</td>\n",
       "      <td>3</td>\n",
       "      <td>7</td>\n",
       "      <td>1242</td>\n",
       "      <td>51.0</td>\n",
       "      <td>6</td>\n",
       "      <td>man</td>\n",
       "      <td>4.0</td>\n",
       "      <td>4.0</td>\n",
       "      <td>petrol</td>\n",
       "      <td>401819.25</td>\n",
       "    </tr>\n",
       "  </tbody>\n",
       "</table>\n",
       "</div>\n",
       "      <button class=\"colab-df-convert\" onclick=\"convertToInteractive('df-d117af24-4d6c-4605-b4dd-9e35fa891ec8')\"\n",
       "              title=\"Convert this dataframe to an interactive table.\"\n",
       "              style=\"display:none;\">\n",
       "        \n",
       "  <svg xmlns=\"http://www.w3.org/2000/svg\" height=\"24px\"viewBox=\"0 0 24 24\"\n",
       "       width=\"24px\">\n",
       "    <path d=\"M0 0h24v24H0V0z\" fill=\"none\"/>\n",
       "    <path d=\"M18.56 5.44l.94 2.06.94-2.06 2.06-.94-2.06-.94-.94-2.06-.94 2.06-2.06.94zm-11 1L8.5 8.5l.94-2.06 2.06-.94-2.06-.94L8.5 2.5l-.94 2.06-2.06.94zm10 10l.94 2.06.94-2.06 2.06-.94-2.06-.94-.94-2.06-.94 2.06-2.06.94z\"/><path d=\"M17.41 7.96l-1.37-1.37c-.4-.4-.92-.59-1.43-.59-.52 0-1.04.2-1.43.59L10.3 9.45l-7.72 7.72c-.78.78-.78 2.05 0 2.83L4 21.41c.39.39.9.59 1.41.59.51 0 1.02-.2 1.41-.59l7.78-7.78 2.81-2.81c.8-.78.8-2.07 0-2.86zM5.41 20L4 18.59l7.72-7.72 1.47 1.35L5.41 20z\"/>\n",
       "  </svg>\n",
       "      </button>\n",
       "      \n",
       "  <style>\n",
       "    .colab-df-container {\n",
       "      display:flex;\n",
       "      flex-wrap:wrap;\n",
       "      gap: 12px;\n",
       "    }\n",
       "\n",
       "    .colab-df-convert {\n",
       "      background-color: #E8F0FE;\n",
       "      border: none;\n",
       "      border-radius: 50%;\n",
       "      cursor: pointer;\n",
       "      display: none;\n",
       "      fill: #1967D2;\n",
       "      height: 32px;\n",
       "      padding: 0 0 0 0;\n",
       "      width: 32px;\n",
       "    }\n",
       "\n",
       "    .colab-df-convert:hover {\n",
       "      background-color: #E2EBFA;\n",
       "      box-shadow: 0px 1px 2px rgba(60, 64, 67, 0.3), 0px 1px 3px 1px rgba(60, 64, 67, 0.15);\n",
       "      fill: #174EA6;\n",
       "    }\n",
       "\n",
       "    [theme=dark] .colab-df-convert {\n",
       "      background-color: #3B4455;\n",
       "      fill: #D2E3FC;\n",
       "    }\n",
       "\n",
       "    [theme=dark] .colab-df-convert:hover {\n",
       "      background-color: #434B5C;\n",
       "      box-shadow: 0px 1px 3px 1px rgba(0, 0, 0, 0.15);\n",
       "      filter: drop-shadow(0px 1px 2px rgba(0, 0, 0, 0.3));\n",
       "      fill: #FFFFFF;\n",
       "    }\n",
       "  </style>\n",
       "\n",
       "      <script>\n",
       "        const buttonEl =\n",
       "          document.querySelector('#df-d117af24-4d6c-4605-b4dd-9e35fa891ec8 button.colab-df-convert');\n",
       "        buttonEl.style.display =\n",
       "          google.colab.kernel.accessAllowed ? 'block' : 'none';\n",
       "\n",
       "        async function convertToInteractive(key) {\n",
       "          const element = document.querySelector('#df-d117af24-4d6c-4605-b4dd-9e35fa891ec8');\n",
       "          const dataTable =\n",
       "            await google.colab.kernel.invokeFunction('convertToInteractive',\n",
       "                                                     [key], {});\n",
       "          if (!dataTable) return;\n",
       "\n",
       "          const docLinkHtml = 'Like what you see? Visit the ' +\n",
       "            '<a target=\"_blank\" href=https://colab.research.google.com/notebooks/data_table.ipynb>data table notebook</a>'\n",
       "            + ' to learn more about interactive tables.';\n",
       "          element.innerHTML = '';\n",
       "          dataTable['output_type'] = 'display_data';\n",
       "          await google.colab.output.renderOutput(dataTable, element);\n",
       "          const docLink = document.createElement('div');\n",
       "          docLink.innerHTML = docLinkHtml;\n",
       "          element.appendChild(docLink);\n",
       "        }\n",
       "      </script>\n",
       "    </div>\n",
       "  </div>\n",
       "  "
      ],
      "text/plain": [
       "   Maker  Distance   Owner Type  Age of car  engine_displacement  \\\n",
       "0  skoda    65520.0           2          55                 1964   \n",
       "1   fiat    27750.0           3           7                 1242   \n",
       "\n",
       "   engine_power  Vroom Audit Rating transmission  door_count  seat_count  \\\n",
       "0         147.0                   8          man         4.0         5.0   \n",
       "1          51.0                   6          man         4.0         4.0   \n",
       "\n",
       "  fuel_type      Price  \n",
       "0    petrol  543764.25  \n",
       "1    petrol  401819.25  "
      ]
     },
     "execution_count": 95,
     "metadata": {},
     "output_type": "execute_result"
    }
   ],
   "source": [
    "df.head(2)"
   ]
  },
  {
   "cell_type": "markdown",
   "id": "967YwUQAsb8t",
   "metadata": {
    "id": "967YwUQAsb8t"
   },
   "source": [
    "### Encoding"
   ]
  },
  {
   "cell_type": "code",
   "execution_count": 101,
   "id": "Tapf-gqLsApv",
   "metadata": {
    "colab": {
     "base_uri": "https://localhost:8080/",
     "height": 211
    },
    "id": "Tapf-gqLsApv",
    "outputId": "e4706723-f3eb-4938-9096-be67292d0896"
   },
   "outputs": [
    {
     "data": {
      "text/html": [
       "\n",
       "  <div id=\"df-2b7789a1-4f06-4630-99a0-5c5cb41fedbb\">\n",
       "    <div class=\"colab-df-container\">\n",
       "      <div>\n",
       "<style scoped>\n",
       "    .dataframe tbody tr th:only-of-type {\n",
       "        vertical-align: middle;\n",
       "    }\n",
       "\n",
       "    .dataframe tbody tr th {\n",
       "        vertical-align: top;\n",
       "    }\n",
       "\n",
       "    .dataframe thead th {\n",
       "        text-align: right;\n",
       "    }\n",
       "</style>\n",
       "<table border=\"1\" class=\"dataframe\">\n",
       "  <thead>\n",
       "    <tr style=\"text-align: right;\">\n",
       "      <th></th>\n",
       "      <th>Distance</th>\n",
       "      <th>Owner Type</th>\n",
       "      <th>Age of car</th>\n",
       "      <th>engine_displacement</th>\n",
       "      <th>engine_power</th>\n",
       "      <th>Vroom Audit Rating</th>\n",
       "      <th>door_count</th>\n",
       "      <th>seat_count</th>\n",
       "      <th>Price</th>\n",
       "      <th>Maker_bmw</th>\n",
       "      <th>Maker_fiat</th>\n",
       "      <th>Maker_hyundai</th>\n",
       "      <th>Maker_maserati</th>\n",
       "      <th>Maker_nissan</th>\n",
       "      <th>Maker_skoda</th>\n",
       "      <th>Maker_toyota</th>\n",
       "      <th>transmission_man</th>\n",
       "      <th>fuel_type_petrol</th>\n",
       "    </tr>\n",
       "  </thead>\n",
       "  <tbody>\n",
       "    <tr>\n",
       "      <th>0</th>\n",
       "      <td>65520.0</td>\n",
       "      <td>2</td>\n",
       "      <td>55</td>\n",
       "      <td>1964</td>\n",
       "      <td>147.0</td>\n",
       "      <td>8</td>\n",
       "      <td>4.0</td>\n",
       "      <td>5.0</td>\n",
       "      <td>543764.25</td>\n",
       "      <td>0</td>\n",
       "      <td>0</td>\n",
       "      <td>0</td>\n",
       "      <td>0</td>\n",
       "      <td>0</td>\n",
       "      <td>1</td>\n",
       "      <td>0</td>\n",
       "      <td>1</td>\n",
       "      <td>1</td>\n",
       "    </tr>\n",
       "    <tr>\n",
       "      <th>1</th>\n",
       "      <td>27750.0</td>\n",
       "      <td>3</td>\n",
       "      <td>7</td>\n",
       "      <td>1242</td>\n",
       "      <td>51.0</td>\n",
       "      <td>6</td>\n",
       "      <td>4.0</td>\n",
       "      <td>4.0</td>\n",
       "      <td>401819.25</td>\n",
       "      <td>0</td>\n",
       "      <td>1</td>\n",
       "      <td>0</td>\n",
       "      <td>0</td>\n",
       "      <td>0</td>\n",
       "      <td>0</td>\n",
       "      <td>0</td>\n",
       "      <td>1</td>\n",
       "      <td>1</td>\n",
       "    </tr>\n",
       "  </tbody>\n",
       "</table>\n",
       "</div>\n",
       "      <button class=\"colab-df-convert\" onclick=\"convertToInteractive('df-2b7789a1-4f06-4630-99a0-5c5cb41fedbb')\"\n",
       "              title=\"Convert this dataframe to an interactive table.\"\n",
       "              style=\"display:none;\">\n",
       "        \n",
       "  <svg xmlns=\"http://www.w3.org/2000/svg\" height=\"24px\"viewBox=\"0 0 24 24\"\n",
       "       width=\"24px\">\n",
       "    <path d=\"M0 0h24v24H0V0z\" fill=\"none\"/>\n",
       "    <path d=\"M18.56 5.44l.94 2.06.94-2.06 2.06-.94-2.06-.94-.94-2.06-.94 2.06-2.06.94zm-11 1L8.5 8.5l.94-2.06 2.06-.94-2.06-.94L8.5 2.5l-.94 2.06-2.06.94zm10 10l.94 2.06.94-2.06 2.06-.94-2.06-.94-.94-2.06-.94 2.06-2.06.94z\"/><path d=\"M17.41 7.96l-1.37-1.37c-.4-.4-.92-.59-1.43-.59-.52 0-1.04.2-1.43.59L10.3 9.45l-7.72 7.72c-.78.78-.78 2.05 0 2.83L4 21.41c.39.39.9.59 1.41.59.51 0 1.02-.2 1.41-.59l7.78-7.78 2.81-2.81c.8-.78.8-2.07 0-2.86zM5.41 20L4 18.59l7.72-7.72 1.47 1.35L5.41 20z\"/>\n",
       "  </svg>\n",
       "      </button>\n",
       "      \n",
       "  <style>\n",
       "    .colab-df-container {\n",
       "      display:flex;\n",
       "      flex-wrap:wrap;\n",
       "      gap: 12px;\n",
       "    }\n",
       "\n",
       "    .colab-df-convert {\n",
       "      background-color: #E8F0FE;\n",
       "      border: none;\n",
       "      border-radius: 50%;\n",
       "      cursor: pointer;\n",
       "      display: none;\n",
       "      fill: #1967D2;\n",
       "      height: 32px;\n",
       "      padding: 0 0 0 0;\n",
       "      width: 32px;\n",
       "    }\n",
       "\n",
       "    .colab-df-convert:hover {\n",
       "      background-color: #E2EBFA;\n",
       "      box-shadow: 0px 1px 2px rgba(60, 64, 67, 0.3), 0px 1px 3px 1px rgba(60, 64, 67, 0.15);\n",
       "      fill: #174EA6;\n",
       "    }\n",
       "\n",
       "    [theme=dark] .colab-df-convert {\n",
       "      background-color: #3B4455;\n",
       "      fill: #D2E3FC;\n",
       "    }\n",
       "\n",
       "    [theme=dark] .colab-df-convert:hover {\n",
       "      background-color: #434B5C;\n",
       "      box-shadow: 0px 1px 3px 1px rgba(0, 0, 0, 0.15);\n",
       "      filter: drop-shadow(0px 1px 2px rgba(0, 0, 0, 0.3));\n",
       "      fill: #FFFFFF;\n",
       "    }\n",
       "  </style>\n",
       "\n",
       "      <script>\n",
       "        const buttonEl =\n",
       "          document.querySelector('#df-2b7789a1-4f06-4630-99a0-5c5cb41fedbb button.colab-df-convert');\n",
       "        buttonEl.style.display =\n",
       "          google.colab.kernel.accessAllowed ? 'block' : 'none';\n",
       "\n",
       "        async function convertToInteractive(key) {\n",
       "          const element = document.querySelector('#df-2b7789a1-4f06-4630-99a0-5c5cb41fedbb');\n",
       "          const dataTable =\n",
       "            await google.colab.kernel.invokeFunction('convertToInteractive',\n",
       "                                                     [key], {});\n",
       "          if (!dataTable) return;\n",
       "\n",
       "          const docLinkHtml = 'Like what you see? Visit the ' +\n",
       "            '<a target=\"_blank\" href=https://colab.research.google.com/notebooks/data_table.ipynb>data table notebook</a>'\n",
       "            + ' to learn more about interactive tables.';\n",
       "          element.innerHTML = '';\n",
       "          dataTable['output_type'] = 'display_data';\n",
       "          await google.colab.output.renderOutput(dataTable, element);\n",
       "          const docLink = document.createElement('div');\n",
       "          docLink.innerHTML = docLinkHtml;\n",
       "          element.appendChild(docLink);\n",
       "        }\n",
       "      </script>\n",
       "    </div>\n",
       "  </div>\n",
       "  "
      ],
      "text/plain": [
       "   Distance   Owner Type  Age of car  engine_displacement  engine_power  \\\n",
       "0    65520.0           2          55                 1964         147.0   \n",
       "1    27750.0           3           7                 1242          51.0   \n",
       "\n",
       "   Vroom Audit Rating  door_count  seat_count      Price  Maker_bmw  \\\n",
       "0                   8         4.0         5.0  543764.25          0   \n",
       "1                   6         4.0         4.0  401819.25          0   \n",
       "\n",
       "   Maker_fiat  Maker_hyundai  Maker_maserati  Maker_nissan  Maker_skoda  \\\n",
       "0           0              0               0             0            1   \n",
       "1           1              0               0             0            0   \n",
       "\n",
       "   Maker_toyota  transmission_man  fuel_type_petrol  \n",
       "0             0                 1                 1  \n",
       "1             0                 1                 1  "
      ]
     },
     "execution_count": 101,
     "metadata": {},
     "output_type": "execute_result"
    }
   ],
   "source": [
    "# feature encoding\n",
    "dff = pd.get_dummies(df, drop_first = True)\n",
    "dff.head(2)"
   ]
  },
  {
   "cell_type": "code",
   "execution_count": 102,
   "id": "UhfFxmUZsMTF",
   "metadata": {
    "colab": {
     "base_uri": "https://localhost:8080/"
    },
    "id": "UhfFxmUZsMTF",
    "outputId": "a2991ca1-2cb3-4b9f-97f7-d7a121265fc0"
   },
   "outputs": [
    {
     "name": "stdout",
     "output_type": "stream",
     "text": [
      "(53515, 12)\n",
      "(53515, 18)\n"
     ]
    }
   ],
   "source": [
    "print(df.shape)\n",
    "print(dff.shape)"
   ]
  },
  {
   "cell_type": "code",
   "execution_count": 103,
   "id": "2d891730",
   "metadata": {
    "id": "2d891730"
   },
   "outputs": [],
   "source": [
    "## encoding categorical variables using label encoder\n",
    "\n",
    "le = LabelEncoder()\n",
    "for i in object_type_variables:\n",
    "    q = le.fit_transform(df[i].astype(str))  \n",
    "    df[i] = q                               \n",
    "    df[i] = df[i].astype(int)"
   ]
  },
  {
   "cell_type": "code",
   "execution_count": 104,
   "id": "356cec90",
   "metadata": {
    "colab": {
     "base_uri": "https://localhost:8080/",
     "height": 267
    },
    "id": "356cec90",
    "outputId": "026f85a3-9c2f-4257-e97b-8ffbe00186cb"
   },
   "outputs": [
    {
     "data": {
      "text/html": [
       "\n",
       "  <div id=\"df-8806d4f1-419e-4dbf-a786-5a07c41fef01\">\n",
       "    <div class=\"colab-df-container\">\n",
       "      <div>\n",
       "<style scoped>\n",
       "    .dataframe tbody tr th:only-of-type {\n",
       "        vertical-align: middle;\n",
       "    }\n",
       "\n",
       "    .dataframe tbody tr th {\n",
       "        vertical-align: top;\n",
       "    }\n",
       "\n",
       "    .dataframe thead th {\n",
       "        text-align: right;\n",
       "    }\n",
       "</style>\n",
       "<table border=\"1\" class=\"dataframe\">\n",
       "  <thead>\n",
       "    <tr style=\"text-align: right;\">\n",
       "      <th></th>\n",
       "      <th>Maker</th>\n",
       "      <th>Distance</th>\n",
       "      <th>Owner Type</th>\n",
       "      <th>Age of car</th>\n",
       "      <th>engine_displacement</th>\n",
       "      <th>engine_power</th>\n",
       "      <th>Vroom Audit Rating</th>\n",
       "      <th>transmission</th>\n",
       "      <th>door_count</th>\n",
       "      <th>seat_count</th>\n",
       "      <th>fuel_type</th>\n",
       "      <th>Price</th>\n",
       "    </tr>\n",
       "  </thead>\n",
       "  <tbody>\n",
       "    <tr>\n",
       "      <th>0</th>\n",
       "      <td>6</td>\n",
       "      <td>65520.0</td>\n",
       "      <td>2</td>\n",
       "      <td>55</td>\n",
       "      <td>1964</td>\n",
       "      <td>147.0</td>\n",
       "      <td>8</td>\n",
       "      <td>1</td>\n",
       "      <td>4.0</td>\n",
       "      <td>5.0</td>\n",
       "      <td>1</td>\n",
       "      <td>543764.25</td>\n",
       "    </tr>\n",
       "    <tr>\n",
       "      <th>1</th>\n",
       "      <td>2</td>\n",
       "      <td>27750.0</td>\n",
       "      <td>3</td>\n",
       "      <td>7</td>\n",
       "      <td>1242</td>\n",
       "      <td>51.0</td>\n",
       "      <td>6</td>\n",
       "      <td>1</td>\n",
       "      <td>4.0</td>\n",
       "      <td>4.0</td>\n",
       "      <td>1</td>\n",
       "      <td>401819.25</td>\n",
       "    </tr>\n",
       "    <tr>\n",
       "      <th>2</th>\n",
       "      <td>1</td>\n",
       "      <td>46000.0</td>\n",
       "      <td>3</td>\n",
       "      <td>5</td>\n",
       "      <td>1995</td>\n",
       "      <td>105.0</td>\n",
       "      <td>7</td>\n",
       "      <td>0</td>\n",
       "      <td>4.0</td>\n",
       "      <td>5.0</td>\n",
       "      <td>0</td>\n",
       "      <td>2392855.50</td>\n",
       "    </tr>\n",
       "    <tr>\n",
       "      <th>3</th>\n",
       "      <td>5</td>\n",
       "      <td>43949.0</td>\n",
       "      <td>3</td>\n",
       "      <td>8</td>\n",
       "      <td>1618</td>\n",
       "      <td>140.0</td>\n",
       "      <td>7</td>\n",
       "      <td>1</td>\n",
       "      <td>4.0</td>\n",
       "      <td>5.0</td>\n",
       "      <td>1</td>\n",
       "      <td>958606.50</td>\n",
       "    </tr>\n",
       "    <tr>\n",
       "      <th>4</th>\n",
       "      <td>1</td>\n",
       "      <td>59524.0</td>\n",
       "      <td>4</td>\n",
       "      <td>7</td>\n",
       "      <td>2993</td>\n",
       "      <td>180.0</td>\n",
       "      <td>7</td>\n",
       "      <td>0</td>\n",
       "      <td>4.0</td>\n",
       "      <td>5.0</td>\n",
       "      <td>0</td>\n",
       "      <td>3085561.50</td>\n",
       "    </tr>\n",
       "  </tbody>\n",
       "</table>\n",
       "</div>\n",
       "      <button class=\"colab-df-convert\" onclick=\"convertToInteractive('df-8806d4f1-419e-4dbf-a786-5a07c41fef01')\"\n",
       "              title=\"Convert this dataframe to an interactive table.\"\n",
       "              style=\"display:none;\">\n",
       "        \n",
       "  <svg xmlns=\"http://www.w3.org/2000/svg\" height=\"24px\"viewBox=\"0 0 24 24\"\n",
       "       width=\"24px\">\n",
       "    <path d=\"M0 0h24v24H0V0z\" fill=\"none\"/>\n",
       "    <path d=\"M18.56 5.44l.94 2.06.94-2.06 2.06-.94-2.06-.94-.94-2.06-.94 2.06-2.06.94zm-11 1L8.5 8.5l.94-2.06 2.06-.94-2.06-.94L8.5 2.5l-.94 2.06-2.06.94zm10 10l.94 2.06.94-2.06 2.06-.94-2.06-.94-.94-2.06-.94 2.06-2.06.94z\"/><path d=\"M17.41 7.96l-1.37-1.37c-.4-.4-.92-.59-1.43-.59-.52 0-1.04.2-1.43.59L10.3 9.45l-7.72 7.72c-.78.78-.78 2.05 0 2.83L4 21.41c.39.39.9.59 1.41.59.51 0 1.02-.2 1.41-.59l7.78-7.78 2.81-2.81c.8-.78.8-2.07 0-2.86zM5.41 20L4 18.59l7.72-7.72 1.47 1.35L5.41 20z\"/>\n",
       "  </svg>\n",
       "      </button>\n",
       "      \n",
       "  <style>\n",
       "    .colab-df-container {\n",
       "      display:flex;\n",
       "      flex-wrap:wrap;\n",
       "      gap: 12px;\n",
       "    }\n",
       "\n",
       "    .colab-df-convert {\n",
       "      background-color: #E8F0FE;\n",
       "      border: none;\n",
       "      border-radius: 50%;\n",
       "      cursor: pointer;\n",
       "      display: none;\n",
       "      fill: #1967D2;\n",
       "      height: 32px;\n",
       "      padding: 0 0 0 0;\n",
       "      width: 32px;\n",
       "    }\n",
       "\n",
       "    .colab-df-convert:hover {\n",
       "      background-color: #E2EBFA;\n",
       "      box-shadow: 0px 1px 2px rgba(60, 64, 67, 0.3), 0px 1px 3px 1px rgba(60, 64, 67, 0.15);\n",
       "      fill: #174EA6;\n",
       "    }\n",
       "\n",
       "    [theme=dark] .colab-df-convert {\n",
       "      background-color: #3B4455;\n",
       "      fill: #D2E3FC;\n",
       "    }\n",
       "\n",
       "    [theme=dark] .colab-df-convert:hover {\n",
       "      background-color: #434B5C;\n",
       "      box-shadow: 0px 1px 3px 1px rgba(0, 0, 0, 0.15);\n",
       "      filter: drop-shadow(0px 1px 2px rgba(0, 0, 0, 0.3));\n",
       "      fill: #FFFFFF;\n",
       "    }\n",
       "  </style>\n",
       "\n",
       "      <script>\n",
       "        const buttonEl =\n",
       "          document.querySelector('#df-8806d4f1-419e-4dbf-a786-5a07c41fef01 button.colab-df-convert');\n",
       "        buttonEl.style.display =\n",
       "          google.colab.kernel.accessAllowed ? 'block' : 'none';\n",
       "\n",
       "        async function convertToInteractive(key) {\n",
       "          const element = document.querySelector('#df-8806d4f1-419e-4dbf-a786-5a07c41fef01');\n",
       "          const dataTable =\n",
       "            await google.colab.kernel.invokeFunction('convertToInteractive',\n",
       "                                                     [key], {});\n",
       "          if (!dataTable) return;\n",
       "\n",
       "          const docLinkHtml = 'Like what you see? Visit the ' +\n",
       "            '<a target=\"_blank\" href=https://colab.research.google.com/notebooks/data_table.ipynb>data table notebook</a>'\n",
       "            + ' to learn more about interactive tables.';\n",
       "          element.innerHTML = '';\n",
       "          dataTable['output_type'] = 'display_data';\n",
       "          await google.colab.output.renderOutput(dataTable, element);\n",
       "          const docLink = document.createElement('div');\n",
       "          docLink.innerHTML = docLinkHtml;\n",
       "          element.appendChild(docLink);\n",
       "        }\n",
       "      </script>\n",
       "    </div>\n",
       "  </div>\n",
       "  "
      ],
      "text/plain": [
       "   Maker  Distance   Owner Type  Age of car  engine_displacement  \\\n",
       "0      6    65520.0           2          55                 1964   \n",
       "1      2    27750.0           3           7                 1242   \n",
       "2      1    46000.0           3           5                 1995   \n",
       "3      5    43949.0           3           8                 1618   \n",
       "4      1    59524.0           4           7                 2993   \n",
       "\n",
       "   engine_power  Vroom Audit Rating  transmission  door_count  seat_count  \\\n",
       "0         147.0                   8             1         4.0         5.0   \n",
       "1          51.0                   6             1         4.0         4.0   \n",
       "2         105.0                   7             0         4.0         5.0   \n",
       "3         140.0                   7             1         4.0         5.0   \n",
       "4         180.0                   7             0         4.0         5.0   \n",
       "\n",
       "   fuel_type       Price  \n",
       "0          1   543764.25  \n",
       "1          1   401819.25  \n",
       "2          0  2392855.50  \n",
       "3          1   958606.50  \n",
       "4          0  3085561.50  "
      ]
     },
     "execution_count": 104,
     "metadata": {},
     "output_type": "execute_result"
    }
   ],
   "source": [
    "df.head()"
   ]
  },
  {
   "cell_type": "code",
   "execution_count": 105,
   "id": "b9273c89",
   "metadata": {
    "colab": {
     "base_uri": "https://localhost:8080/"
    },
    "id": "b9273c89",
    "outputId": "ee93e15a-3af0-48b8-cbe8-5a9d957ca745"
   },
   "outputs": [
    {
     "name": "stdout",
     "output_type": "stream",
     "text": [
      "<class 'pandas.core.frame.DataFrame'>\n",
      "RangeIndex: 53515 entries, 0 to 53514\n",
      "Data columns (total 18 columns):\n",
      " #   Column               Non-Null Count  Dtype  \n",
      "---  ------               --------------  -----  \n",
      " 0   Distance             53515 non-null  float64\n",
      " 1   Owner Type           53515 non-null  int64  \n",
      " 2   Age of car           53515 non-null  int64  \n",
      " 3   engine_displacement  53515 non-null  int64  \n",
      " 4   engine_power         53515 non-null  float64\n",
      " 5   Vroom Audit Rating   53515 non-null  int64  \n",
      " 6   door_count           53515 non-null  float64\n",
      " 7   seat_count           53515 non-null  float64\n",
      " 8   Price                53515 non-null  float64\n",
      " 9   Maker_bmw            53515 non-null  uint8  \n",
      " 10  Maker_fiat           53515 non-null  uint8  \n",
      " 11  Maker_hyundai        53515 non-null  uint8  \n",
      " 12  Maker_maserati       53515 non-null  uint8  \n",
      " 13  Maker_nissan         53515 non-null  uint8  \n",
      " 14  Maker_skoda          53515 non-null  uint8  \n",
      " 15  Maker_toyota         53515 non-null  uint8  \n",
      " 16  transmission_man     53515 non-null  uint8  \n",
      " 17  fuel_type_petrol     53515 non-null  uint8  \n",
      "dtypes: float64(5), int64(4), uint8(9)\n",
      "memory usage: 4.1 MB\n"
     ]
    }
   ],
   "source": [
    "## recheck the dataypes \n",
    "dff.info()"
   ]
  },
  {
   "cell_type": "code",
   "execution_count": 106,
   "id": "XSv0scFoso3o",
   "metadata": {
    "colab": {
     "base_uri": "https://localhost:8080/",
     "height": 112
    },
    "id": "XSv0scFoso3o",
    "outputId": "e67f6a72-457c-403d-876f-80458b04a69b"
   },
   "outputs": [
    {
     "data": {
      "text/html": [
       "\n",
       "  <div id=\"df-1ea5b04d-23ff-4931-acca-a3790e6682e4\">\n",
       "    <div class=\"colab-df-container\">\n",
       "      <div>\n",
       "<style scoped>\n",
       "    .dataframe tbody tr th:only-of-type {\n",
       "        vertical-align: middle;\n",
       "    }\n",
       "\n",
       "    .dataframe tbody tr th {\n",
       "        vertical-align: top;\n",
       "    }\n",
       "\n",
       "    .dataframe thead th {\n",
       "        text-align: right;\n",
       "    }\n",
       "</style>\n",
       "<table border=\"1\" class=\"dataframe\">\n",
       "  <thead>\n",
       "    <tr style=\"text-align: right;\">\n",
       "      <th></th>\n",
       "      <th>Owner Type</th>\n",
       "      <th>Age of car</th>\n",
       "      <th>engine_displacement</th>\n",
       "      <th>engine_power</th>\n",
       "      <th>Vroom Audit Rating</th>\n",
       "      <th>door_count</th>\n",
       "      <th>seat_count</th>\n",
       "      <th>Price</th>\n",
       "    </tr>\n",
       "  </thead>\n",
       "  <tbody>\n",
       "    <tr>\n",
       "      <th>0</th>\n",
       "      <td>2</td>\n",
       "      <td>55</td>\n",
       "      <td>1964</td>\n",
       "      <td>147.0</td>\n",
       "      <td>8</td>\n",
       "      <td>4.0</td>\n",
       "      <td>5.0</td>\n",
       "      <td>543764.25</td>\n",
       "    </tr>\n",
       "    <tr>\n",
       "      <th>1</th>\n",
       "      <td>3</td>\n",
       "      <td>7</td>\n",
       "      <td>1242</td>\n",
       "      <td>51.0</td>\n",
       "      <td>6</td>\n",
       "      <td>4.0</td>\n",
       "      <td>4.0</td>\n",
       "      <td>401819.25</td>\n",
       "    </tr>\n",
       "  </tbody>\n",
       "</table>\n",
       "</div>\n",
       "      <button class=\"colab-df-convert\" onclick=\"convertToInteractive('df-1ea5b04d-23ff-4931-acca-a3790e6682e4')\"\n",
       "              title=\"Convert this dataframe to an interactive table.\"\n",
       "              style=\"display:none;\">\n",
       "        \n",
       "  <svg xmlns=\"http://www.w3.org/2000/svg\" height=\"24px\"viewBox=\"0 0 24 24\"\n",
       "       width=\"24px\">\n",
       "    <path d=\"M0 0h24v24H0V0z\" fill=\"none\"/>\n",
       "    <path d=\"M18.56 5.44l.94 2.06.94-2.06 2.06-.94-2.06-.94-.94-2.06-.94 2.06-2.06.94zm-11 1L8.5 8.5l.94-2.06 2.06-.94-2.06-.94L8.5 2.5l-.94 2.06-2.06.94zm10 10l.94 2.06.94-2.06 2.06-.94-2.06-.94-.94-2.06-.94 2.06-2.06.94z\"/><path d=\"M17.41 7.96l-1.37-1.37c-.4-.4-.92-.59-1.43-.59-.52 0-1.04.2-1.43.59L10.3 9.45l-7.72 7.72c-.78.78-.78 2.05 0 2.83L4 21.41c.39.39.9.59 1.41.59.51 0 1.02-.2 1.41-.59l7.78-7.78 2.81-2.81c.8-.78.8-2.07 0-2.86zM5.41 20L4 18.59l7.72-7.72 1.47 1.35L5.41 20z\"/>\n",
       "  </svg>\n",
       "      </button>\n",
       "      \n",
       "  <style>\n",
       "    .colab-df-container {\n",
       "      display:flex;\n",
       "      flex-wrap:wrap;\n",
       "      gap: 12px;\n",
       "    }\n",
       "\n",
       "    .colab-df-convert {\n",
       "      background-color: #E8F0FE;\n",
       "      border: none;\n",
       "      border-radius: 50%;\n",
       "      cursor: pointer;\n",
       "      display: none;\n",
       "      fill: #1967D2;\n",
       "      height: 32px;\n",
       "      padding: 0 0 0 0;\n",
       "      width: 32px;\n",
       "    }\n",
       "\n",
       "    .colab-df-convert:hover {\n",
       "      background-color: #E2EBFA;\n",
       "      box-shadow: 0px 1px 2px rgba(60, 64, 67, 0.3), 0px 1px 3px 1px rgba(60, 64, 67, 0.15);\n",
       "      fill: #174EA6;\n",
       "    }\n",
       "\n",
       "    [theme=dark] .colab-df-convert {\n",
       "      background-color: #3B4455;\n",
       "      fill: #D2E3FC;\n",
       "    }\n",
       "\n",
       "    [theme=dark] .colab-df-convert:hover {\n",
       "      background-color: #434B5C;\n",
       "      box-shadow: 0px 1px 3px 1px rgba(0, 0, 0, 0.15);\n",
       "      filter: drop-shadow(0px 1px 2px rgba(0, 0, 0, 0.3));\n",
       "      fill: #FFFFFF;\n",
       "    }\n",
       "  </style>\n",
       "\n",
       "      <script>\n",
       "        const buttonEl =\n",
       "          document.querySelector('#df-1ea5b04d-23ff-4931-acca-a3790e6682e4 button.colab-df-convert');\n",
       "        buttonEl.style.display =\n",
       "          google.colab.kernel.accessAllowed ? 'block' : 'none';\n",
       "\n",
       "        async function convertToInteractive(key) {\n",
       "          const element = document.querySelector('#df-1ea5b04d-23ff-4931-acca-a3790e6682e4');\n",
       "          const dataTable =\n",
       "            await google.colab.kernel.invokeFunction('convertToInteractive',\n",
       "                                                     [key], {});\n",
       "          if (!dataTable) return;\n",
       "\n",
       "          const docLinkHtml = 'Like what you see? Visit the ' +\n",
       "            '<a target=\"_blank\" href=https://colab.research.google.com/notebooks/data_table.ipynb>data table notebook</a>'\n",
       "            + ' to learn more about interactive tables.';\n",
       "          element.innerHTML = '';\n",
       "          dataTable['output_type'] = 'display_data';\n",
       "          await google.colab.output.renderOutput(dataTable, element);\n",
       "          const docLink = document.createElement('div');\n",
       "          docLink.innerHTML = docLinkHtml;\n",
       "          element.appendChild(docLink);\n",
       "        }\n",
       "      </script>\n",
       "    </div>\n",
       "  </div>\n",
       "  "
      ],
      "text/plain": [
       "   Owner Type  Age of car  engine_displacement  engine_power  \\\n",
       "0           2          55                 1964         147.0   \n",
       "1           3           7                 1242          51.0   \n",
       "\n",
       "   Vroom Audit Rating  door_count  seat_count      Price  \n",
       "0                   8         4.0         5.0  543764.25  \n",
       "1                   6         4.0         4.0  401819.25  "
      ]
     },
     "execution_count": 106,
     "metadata": {},
     "output_type": "execute_result"
    }
   ],
   "source": [
    "dff.iloc[:,1:9].head(2)"
   ]
  },
  {
   "cell_type": "code",
   "execution_count": 107,
   "id": "ZjAsuTgse_eg",
   "metadata": {
    "colab": {
     "base_uri": "https://localhost:8080/",
     "height": 722
    },
    "id": "ZjAsuTgse_eg",
    "outputId": "079cf920-fc92-4800-fe03-9f43240d9ce7"
   },
   "outputs": [
    {
     "data": {
      "text/plain": [
       "<matplotlib.axes._subplots.AxesSubplot at 0x7fcecb63fed0>"
      ]
     },
     "execution_count": 107,
     "metadata": {},
     "output_type": "execute_result"
    },
    {
     "data": {
      "image/png": "[encoded data removed]",
      "text/plain": [
       "<Figure size 1152x864 with 2 Axes>"
      ]
     },
     "metadata": {
      "needs_background": "light"
     },
     "output_type": "display_data"
    }
   ],
   "source": [
    "plt.figure(figsize = (16,12))\n",
    "sns.heatmap(dff.iloc[:,1:9].corr(), annot=True)"
   ]
  },
  {
   "cell_type": "markdown",
   "id": "f4e5b620",
   "metadata": {
    "id": "f4e5b620"
   },
   "source": [
    "### Split and scale the data"
   ]
  },
  {
   "cell_type": "code",
   "execution_count": 108,
   "id": "gzLOU-6vxnqO",
   "metadata": {
    "id": "gzLOU-6vxnqO"
   },
   "outputs": [],
   "source": [
    "## separate the target and independent features\n",
    "X = dff.drop('Price',axis=1)\n",
    "y = dff['Price']"
   ]
  },
  {
   "cell_type": "code",
   "execution_count": 109,
   "id": "UiuB-pNyxpth",
   "metadata": {
    "id": "UiuB-pNyxpth"
   },
   "outputs": [],
   "source": [
    "## Split the dataset into train and test\n",
    "X_train,X_test,y_train,y_test = train_test_split(X,y,test_size=0.3,random_state=0)"
   ]
  },
  {
   "cell_type": "code",
   "execution_count": 110,
   "id": "e68fc88f",
   "metadata": {
    "id": "e68fc88f"
   },
   "outputs": [],
   "source": [
    "## scale the numerical independent features using standard scalar\n",
    "ss = StandardScaler()\n",
    "X_train_sc = X_train.copy()\n",
    "X_test_sc = X_test.copy()\n",
    "X_train_sc.iloc[:,[0,3,4,5,6]] = ss.fit_transform(X_train.iloc[:,[0,3,4,5,6]])\n",
    "X_test_sc.iloc[:,[0,3,4,5,6]] = ss.transform(X_test.iloc[:,[0,3,4,5,6]])"
   ]
  },
  {
   "cell_type": "code",
   "execution_count": 111,
   "id": "fdc0dc63",
   "metadata": {
    "colab": {
     "base_uri": "https://localhost:8080/",
     "height": 211
    },
    "id": "fdc0dc63",
    "outputId": "a02e74c6-4dbd-40c1-f64d-2aed44515559"
   },
   "outputs": [
    {
     "data": {
      "text/html": [
       "\n",
       "  <div id=\"df-eb004b26-15d8-4179-864d-2e501e15161c\">\n",
       "    <div class=\"colab-df-container\">\n",
       "      <div>\n",
       "<style scoped>\n",
       "    .dataframe tbody tr th:only-of-type {\n",
       "        vertical-align: middle;\n",
       "    }\n",
       "\n",
       "    .dataframe tbody tr th {\n",
       "        vertical-align: top;\n",
       "    }\n",
       "\n",
       "    .dataframe thead th {\n",
       "        text-align: right;\n",
       "    }\n",
       "</style>\n",
       "<table border=\"1\" class=\"dataframe\">\n",
       "  <thead>\n",
       "    <tr style=\"text-align: right;\">\n",
       "      <th></th>\n",
       "      <th>Distance</th>\n",
       "      <th>Owner Type</th>\n",
       "      <th>Age of car</th>\n",
       "      <th>engine_displacement</th>\n",
       "      <th>engine_power</th>\n",
       "      <th>Vroom Audit Rating</th>\n",
       "      <th>door_count</th>\n",
       "      <th>seat_count</th>\n",
       "      <th>Maker_bmw</th>\n",
       "      <th>Maker_fiat</th>\n",
       "      <th>Maker_hyundai</th>\n",
       "      <th>Maker_maserati</th>\n",
       "      <th>Maker_nissan</th>\n",
       "      <th>Maker_skoda</th>\n",
       "      <th>Maker_toyota</th>\n",
       "      <th>transmission_man</th>\n",
       "      <th>fuel_type_petrol</th>\n",
       "    </tr>\n",
       "  </thead>\n",
       "  <tbody>\n",
       "    <tr>\n",
       "      <th>51440</th>\n",
       "      <td>28000.0</td>\n",
       "      <td>2</td>\n",
       "      <td>5</td>\n",
       "      <td>1968</td>\n",
       "      <td>135.0</td>\n",
       "      <td>7</td>\n",
       "      <td>4.0</td>\n",
       "      <td>5.0</td>\n",
       "      <td>0</td>\n",
       "      <td>0</td>\n",
       "      <td>0</td>\n",
       "      <td>0</td>\n",
       "      <td>0</td>\n",
       "      <td>1</td>\n",
       "      <td>0</td>\n",
       "      <td>0</td>\n",
       "      <td>0</td>\n",
       "    </tr>\n",
       "    <tr>\n",
       "      <th>40392</th>\n",
       "      <td>109738.0</td>\n",
       "      <td>3</td>\n",
       "      <td>7</td>\n",
       "      <td>1995</td>\n",
       "      <td>135.0</td>\n",
       "      <td>4</td>\n",
       "      <td>4.0</td>\n",
       "      <td>5.0</td>\n",
       "      <td>1</td>\n",
       "      <td>0</td>\n",
       "      <td>0</td>\n",
       "      <td>0</td>\n",
       "      <td>0</td>\n",
       "      <td>0</td>\n",
       "      <td>0</td>\n",
       "      <td>0</td>\n",
       "      <td>0</td>\n",
       "    </tr>\n",
       "  </tbody>\n",
       "</table>\n",
       "</div>\n",
       "      <button class=\"colab-df-convert\" onclick=\"convertToInteractive('df-eb004b26-15d8-4179-864d-2e501e15161c')\"\n",
       "              title=\"Convert this dataframe to an interactive table.\"\n",
       "              style=\"display:none;\">\n",
       "        \n",
       "  <svg xmlns=\"http://www.w3.org/2000/svg\" height=\"24px\"viewBox=\"0 0 24 24\"\n",
       "       width=\"24px\">\n",
       "    <path d=\"M0 0h24v24H0V0z\" fill=\"none\"/>\n",
       "    <path d=\"M18.56 5.44l.94 2.06.94-2.06 2.06-.94-2.06-.94-.94-2.06-.94 2.06-2.06.94zm-11 1L8.5 8.5l.94-2.06 2.06-.94-2.06-.94L8.5 2.5l-.94 2.06-2.06.94zm10 10l.94 2.06.94-2.06 2.06-.94-2.06-.94-.94-2.06-.94 2.06-2.06.94z\"/><path d=\"M17.41 7.96l-1.37-1.37c-.4-.4-.92-.59-1.43-.59-.52 0-1.04.2-1.43.59L10.3 9.45l-7.72 7.72c-.78.78-.78 2.05 0 2.83L4 21.41c.39.39.9.59 1.41.59.51 0 1.02-.2 1.41-.59l7.78-7.78 2.81-2.81c.8-.78.8-2.07 0-2.86zM5.41 20L4 18.59l7.72-7.72 1.47 1.35L5.41 20z\"/>\n",
       "  </svg>\n",
       "      </button>\n",
       "      \n",
       "  <style>\n",
       "    .colab-df-container {\n",
       "      display:flex;\n",
       "      flex-wrap:wrap;\n",
       "      gap: 12px;\n",
       "    }\n",
       "\n",
       "    .colab-df-convert {\n",
       "      background-color: #E8F0FE;\n",
       "      border: none;\n",
       "      border-radius: 50%;\n",
       "      cursor: pointer;\n",
       "      display: none;\n",
       "      fill: #1967D2;\n",
       "      height: 32px;\n",
       "      padding: 0 0 0 0;\n",
       "      width: 32px;\n",
       "    }\n",
       "\n",
       "    .colab-df-convert:hover {\n",
       "      background-color: #E2EBFA;\n",
       "      box-shadow: 0px 1px 2px rgba(60, 64, 67, 0.3), 0px 1px 3px 1px rgba(60, 64, 67, 0.15);\n",
       "      fill: #174EA6;\n",
       "    }\n",
       "\n",
       "    [theme=dark] .colab-df-convert {\n",
       "      background-color: #3B4455;\n",
       "      fill: #D2E3FC;\n",
       "    }\n",
       "\n",
       "    [theme=dark] .colab-df-convert:hover {\n",
       "      background-color: #434B5C;\n",
       "      box-shadow: 0px 1px 3px 1px rgba(0, 0, 0, 0.15);\n",
       "      filter: drop-shadow(0px 1px 2px rgba(0, 0, 0, 0.3));\n",
       "      fill: #FFFFFF;\n",
       "    }\n",
       "  </style>\n",
       "\n",
       "      <script>\n",
       "        const buttonEl =\n",
       "          document.querySelector('#df-eb004b26-15d8-4179-864d-2e501e15161c button.colab-df-convert');\n",
       "        buttonEl.style.display =\n",
       "          google.colab.kernel.accessAllowed ? 'block' : 'none';\n",
       "\n",
       "        async function convertToInteractive(key) {\n",
       "          const element = document.querySelector('#df-eb004b26-15d8-4179-864d-2e501e15161c');\n",
       "          const dataTable =\n",
       "            await google.colab.kernel.invokeFunction('convertToInteractive',\n",
       "                                                     [key], {});\n",
       "          if (!dataTable) return;\n",
       "\n",
       "          const docLinkHtml = 'Like what you see? Visit the ' +\n",
       "            '<a target=\"_blank\" href=https://colab.research.google.com/notebooks/data_table.ipynb>data table notebook</a>'\n",
       "            + ' to learn more about interactive tables.';\n",
       "          element.innerHTML = '';\n",
       "          dataTable['output_type'] = 'display_data';\n",
       "          await google.colab.output.renderOutput(dataTable, element);\n",
       "          const docLink = document.createElement('div');\n",
       "          docLink.innerHTML = docLinkHtml;\n",
       "          element.appendChild(docLink);\n",
       "        }\n",
       "      </script>\n",
       "    </div>\n",
       "  </div>\n",
       "  "
      ],
      "text/plain": [
       "       Distance   Owner Type  Age of car  engine_displacement  engine_power  \\\n",
       "51440    28000.0           2           5                 1968         135.0   \n",
       "40392   109738.0           3           7                 1995         135.0   \n",
       "\n",
       "       Vroom Audit Rating  door_count  seat_count  Maker_bmw  Maker_fiat  \\\n",
       "51440                   7         4.0         5.0          0           0   \n",
       "40392                   4         4.0         5.0          1           0   \n",
       "\n",
       "       Maker_hyundai  Maker_maserati  Maker_nissan  Maker_skoda  Maker_toyota  \\\n",
       "51440              0               0             0            1             0   \n",
       "40392              0               0             0            0             0   \n",
       "\n",
       "       transmission_man  fuel_type_petrol  \n",
       "51440                 0                 0  \n",
       "40392                 0                 0  "
      ]
     },
     "execution_count": 111,
     "metadata": {},
     "output_type": "execute_result"
    }
   ],
   "source": [
    "X_train.head(2)"
   ]
  },
  {
   "cell_type": "code",
   "execution_count": 112,
   "id": "ebbab187",
   "metadata": {
    "colab": {
     "base_uri": "https://localhost:8080/",
     "height": 211
    },
    "id": "ebbab187",
    "outputId": "2c9e4e9d-274b-4cef-dd93-dacc56e1f586"
   },
   "outputs": [
    {
     "data": {
      "text/html": [
       "\n",
       "  <div id=\"df-9344a19f-18aa-412f-b856-45e1203d267b\">\n",
       "    <div class=\"colab-df-container\">\n",
       "      <div>\n",
       "<style scoped>\n",
       "    .dataframe tbody tr th:only-of-type {\n",
       "        vertical-align: middle;\n",
       "    }\n",
       "\n",
       "    .dataframe tbody tr th {\n",
       "        vertical-align: top;\n",
       "    }\n",
       "\n",
       "    .dataframe thead th {\n",
       "        text-align: right;\n",
       "    }\n",
       "</style>\n",
       "<table border=\"1\" class=\"dataframe\">\n",
       "  <thead>\n",
       "    <tr style=\"text-align: right;\">\n",
       "      <th></th>\n",
       "      <th>Distance</th>\n",
       "      <th>Owner Type</th>\n",
       "      <th>Age of car</th>\n",
       "      <th>engine_displacement</th>\n",
       "      <th>engine_power</th>\n",
       "      <th>Vroom Audit Rating</th>\n",
       "      <th>door_count</th>\n",
       "      <th>seat_count</th>\n",
       "      <th>Maker_bmw</th>\n",
       "      <th>Maker_fiat</th>\n",
       "      <th>Maker_hyundai</th>\n",
       "      <th>Maker_maserati</th>\n",
       "      <th>Maker_nissan</th>\n",
       "      <th>Maker_skoda</th>\n",
       "      <th>Maker_toyota</th>\n",
       "      <th>transmission_man</th>\n",
       "      <th>fuel_type_petrol</th>\n",
       "    </tr>\n",
       "  </thead>\n",
       "  <tbody>\n",
       "    <tr>\n",
       "      <th>49278</th>\n",
       "      <td>-0.305130</td>\n",
       "      <td>1</td>\n",
       "      <td>4</td>\n",
       "      <td>-0.207976</td>\n",
       "      <td>-0.518362</td>\n",
       "      <td>1.410742</td>\n",
       "      <td>0.031037</td>\n",
       "      <td>5.0</td>\n",
       "      <td>0</td>\n",
       "      <td>0</td>\n",
       "      <td>0</td>\n",
       "      <td>0</td>\n",
       "      <td>0</td>\n",
       "      <td>1</td>\n",
       "      <td>0</td>\n",
       "      <td>1</td>\n",
       "      <td>0</td>\n",
       "    </tr>\n",
       "    <tr>\n",
       "      <th>12294</th>\n",
       "      <td>-0.284784</td>\n",
       "      <td>4</td>\n",
       "      <td>4</td>\n",
       "      <td>0.044299</td>\n",
       "      <td>0.215842</td>\n",
       "      <td>-0.705964</td>\n",
       "      <td>0.031037</td>\n",
       "      <td>5.0</td>\n",
       "      <td>0</td>\n",
       "      <td>0</td>\n",
       "      <td>0</td>\n",
       "      <td>0</td>\n",
       "      <td>0</td>\n",
       "      <td>0</td>\n",
       "      <td>0</td>\n",
       "      <td>1</td>\n",
       "      <td>0</td>\n",
       "    </tr>\n",
       "  </tbody>\n",
       "</table>\n",
       "</div>\n",
       "      <button class=\"colab-df-convert\" onclick=\"convertToInteractive('df-9344a19f-18aa-412f-b856-45e1203d267b')\"\n",
       "              title=\"Convert this dataframe to an interactive table.\"\n",
       "              style=\"display:none;\">\n",
       "        \n",
       "  <svg xmlns=\"http://www.w3.org/2000/svg\" height=\"24px\"viewBox=\"0 0 24 24\"\n",
       "       width=\"24px\">\n",
       "    <path d=\"M0 0h24v24H0V0z\" fill=\"none\"/>\n",
       "    <path d=\"M18.56 5.44l.94 2.06.94-2.06 2.06-.94-2.06-.94-.94-2.06-.94 2.06-2.06.94zm-11 1L8.5 8.5l.94-2.06 2.06-.94-2.06-.94L8.5 2.5l-.94 2.06-2.06.94zm10 10l.94 2.06.94-2.06 2.06-.94-2.06-.94-.94-2.06-.94 2.06-2.06.94z\"/><path d=\"M17.41 7.96l-1.37-1.37c-.4-.4-.92-.59-1.43-.59-.52 0-1.04.2-1.43.59L10.3 9.45l-7.72 7.72c-.78.78-.78 2.05 0 2.83L4 21.41c.39.39.9.59 1.41.59.51 0 1.02-.2 1.41-.59l7.78-7.78 2.81-2.81c.8-.78.8-2.07 0-2.86zM5.41 20L4 18.59l7.72-7.72 1.47 1.35L5.41 20z\"/>\n",
       "  </svg>\n",
       "      </button>\n",
       "      \n",
       "  <style>\n",
       "    .colab-df-container {\n",
       "      display:flex;\n",
       "      flex-wrap:wrap;\n",
       "      gap: 12px;\n",
       "    }\n",
       "\n",
       "    .colab-df-convert {\n",
       "      background-color: #E8F0FE;\n",
       "      border: none;\n",
       "      border-radius: 50%;\n",
       "      cursor: pointer;\n",
       "      display: none;\n",
       "      fill: #1967D2;\n",
       "      height: 32px;\n",
       "      padding: 0 0 0 0;\n",
       "      width: 32px;\n",
       "    }\n",
       "\n",
       "    .colab-df-convert:hover {\n",
       "      background-color: #E2EBFA;\n",
       "      box-shadow: 0px 1px 2px rgba(60, 64, 67, 0.3), 0px 1px 3px 1px rgba(60, 64, 67, 0.15);\n",
       "      fill: #174EA6;\n",
       "    }\n",
       "\n",
       "    [theme=dark] .colab-df-convert {\n",
       "      background-color: #3B4455;\n",
       "      fill: #D2E3FC;\n",
       "    }\n",
       "\n",
       "    [theme=dark] .colab-df-convert:hover {\n",
       "      background-color: #434B5C;\n",
       "      box-shadow: 0px 1px 3px 1px rgba(0, 0, 0, 0.15);\n",
       "      filter: drop-shadow(0px 1px 2px rgba(0, 0, 0, 0.3));\n",
       "      fill: #FFFFFF;\n",
       "    }\n",
       "  </style>\n",
       "\n",
       "      <script>\n",
       "        const buttonEl =\n",
       "          document.querySelector('#df-9344a19f-18aa-412f-b856-45e1203d267b button.colab-df-convert');\n",
       "        buttonEl.style.display =\n",
       "          google.colab.kernel.accessAllowed ? 'block' : 'none';\n",
       "\n",
       "        async function convertToInteractive(key) {\n",
       "          const element = document.querySelector('#df-9344a19f-18aa-412f-b856-45e1203d267b');\n",
       "          const dataTable =\n",
       "            await google.colab.kernel.invokeFunction('convertToInteractive',\n",
       "                                                     [key], {});\n",
       "          if (!dataTable) return;\n",
       "\n",
       "          const docLinkHtml = 'Like what you see? Visit the ' +\n",
       "            '<a target=\"_blank\" href=https://colab.research.google.com/notebooks/data_table.ipynb>data table notebook</a>'\n",
       "            + ' to learn more about interactive tables.';\n",
       "          element.innerHTML = '';\n",
       "          dataTable['output_type'] = 'display_data';\n",
       "          await google.colab.output.renderOutput(dataTable, element);\n",
       "          const docLink = document.createElement('div');\n",
       "          docLink.innerHTML = docLinkHtml;\n",
       "          element.appendChild(docLink);\n",
       "        }\n",
       "      </script>\n",
       "    </div>\n",
       "  </div>\n",
       "  "
      ],
      "text/plain": [
       "       Distance   Owner Type  Age of car  engine_displacement  engine_power  \\\n",
       "49278  -0.305130           1           4            -0.207976     -0.518362   \n",
       "12294  -0.284784           4           4             0.044299      0.215842   \n",
       "\n",
       "       Vroom Audit Rating  door_count  seat_count  Maker_bmw  Maker_fiat  \\\n",
       "49278            1.410742    0.031037         5.0          0           0   \n",
       "12294           -0.705964    0.031037         5.0          0           0   \n",
       "\n",
       "       Maker_hyundai  Maker_maserati  Maker_nissan  Maker_skoda  Maker_toyota  \\\n",
       "49278              0               0             0            1             0   \n",
       "12294              0               0             0            0             0   \n",
       "\n",
       "       transmission_man  fuel_type_petrol  \n",
       "49278                 1                 0  \n",
       "12294                 1                 0  "
      ]
     },
     "execution_count": 112,
     "metadata": {},
     "output_type": "execute_result"
    }
   ],
   "source": [
    "X_test_sc.head(2)"
   ]
  },
  {
   "cell_type": "code",
   "execution_count": 113,
   "id": "L9fTo6Hntxse",
   "metadata": {
    "colab": {
     "base_uri": "https://localhost:8080/",
     "height": 486
    },
    "id": "L9fTo6Hntxse",
    "outputId": "fdacc240-d830-4ba1-95b4-55a337dd14c6"
   },
   "outputs": [
    {
     "data": {
      "text/plain": [
       "<matplotlib.axes._subplots.AxesSubplot at 0x7fcecb4f6fd0>"
      ]
     },
     "execution_count": 113,
     "metadata": {},
     "output_type": "execute_result"
    },
    {
     "data": {
      "image/png": "[encoded data removed]",
      "text/plain": [
       "<Figure size 1440x576 with 1 Axes>"
      ]
     },
     "metadata": {
      "needs_background": "light"
     },
     "output_type": "display_data"
    }
   ],
   "source": [
    "X_train_sc.iloc[:,:6].boxplot(figsize=(20,8))"
   ]
  },
  {
   "cell_type": "code",
   "execution_count": 114,
   "id": "iqg9vYI2eZnR",
   "metadata": {
    "colab": {
     "base_uri": "https://localhost:8080/",
     "height": 486
    },
    "id": "iqg9vYI2eZnR",
    "outputId": "3affdf6f-9a8a-42e5-a344-a20d88cfcaa1"
   },
   "outputs": [
    {
     "data": {
      "text/plain": [
       "<matplotlib.axes._subplots.AxesSubplot at 0x7fcecb4ac410>"
      ]
     },
     "execution_count": 114,
     "metadata": {},
     "output_type": "execute_result"
    },
    {
     "data": {
      "image/png": "[encoded data removed]",
      "text/plain": [
       "<Figure size 1440x576 with 1 Axes>"
      ]
     },
     "metadata": {
      "needs_background": "light"
     },
     "output_type": "display_data"
    }
   ],
   "source": [
    "X_test_sc.iloc[:,:6].boxplot(figsize=(20,8))"
   ]
  },
  {
   "cell_type": "markdown",
   "id": "InRSwyFJgL2y",
   "metadata": {
    "id": "InRSwyFJgL2y"
   },
   "source": [
    "- We can see a lot of outliers here. We can remove a few of them"
   ]
  },
  {
   "cell_type": "code",
   "execution_count": 115,
   "id": "GjhHJYF5t13I",
   "metadata": {
    "colab": {
     "base_uri": "https://localhost:8080/"
    },
    "id": "GjhHJYF5t13I",
    "outputId": "6c3c4120-7e57-4837-d523-b334d5a32396"
   },
   "outputs": [
    {
     "data": {
      "text/plain": [
       "count    37460.000000\n",
       "mean         8.602322\n",
       "std          4.670409\n",
       "min          3.000000\n",
       "25%          5.000000\n",
       "50%          8.000000\n",
       "75%         11.000000\n",
       "max         85.000000\n",
       "Name: Age of car, dtype: float64"
      ]
     },
     "execution_count": 115,
     "metadata": {},
     "output_type": "execute_result"
    }
   ],
   "source": [
    "X_train['Age of car'].describe()"
   ]
  },
  {
   "cell_type": "code",
   "execution_count": 116,
   "id": "XcjavKStt97y",
   "metadata": {
    "colab": {
     "base_uri": "https://localhost:8080/",
     "height": 179
    },
    "id": "XcjavKStt97y",
    "outputId": "bb5f9d13-56e3-4976-f598-d829a9e22a9a"
   },
   "outputs": [
    {
     "data": {
      "text/html": [
       "\n",
       "  <div id=\"df-3d0b5469-4b76-4b63-89d7-dfc9b8501520\">\n",
       "    <div class=\"colab-df-container\">\n",
       "      <div>\n",
       "<style scoped>\n",
       "    .dataframe tbody tr th:only-of-type {\n",
       "        vertical-align: middle;\n",
       "    }\n",
       "\n",
       "    .dataframe tbody tr th {\n",
       "        vertical-align: top;\n",
       "    }\n",
       "\n",
       "    .dataframe thead th {\n",
       "        text-align: right;\n",
       "    }\n",
       "</style>\n",
       "<table border=\"1\" class=\"dataframe\">\n",
       "  <thead>\n",
       "    <tr style=\"text-align: right;\">\n",
       "      <th></th>\n",
       "      <th>Distance</th>\n",
       "      <th>Owner Type</th>\n",
       "      <th>Age of car</th>\n",
       "      <th>engine_displacement</th>\n",
       "      <th>engine_power</th>\n",
       "      <th>Vroom Audit Rating</th>\n",
       "      <th>door_count</th>\n",
       "      <th>seat_count</th>\n",
       "      <th>Price</th>\n",
       "      <th>Maker_bmw</th>\n",
       "      <th>Maker_fiat</th>\n",
       "      <th>Maker_hyundai</th>\n",
       "      <th>Maker_maserati</th>\n",
       "      <th>Maker_nissan</th>\n",
       "      <th>Maker_skoda</th>\n",
       "      <th>Maker_toyota</th>\n",
       "      <th>transmission_man</th>\n",
       "      <th>fuel_type_petrol</th>\n",
       "    </tr>\n",
       "  </thead>\n",
       "  <tbody>\n",
       "    <tr>\n",
       "      <th>9655</th>\n",
       "      <td>193400.0</td>\n",
       "      <td>4</td>\n",
       "      <td>85</td>\n",
       "      <td>29120</td>\n",
       "      <td>126.0</td>\n",
       "      <td>5</td>\n",
       "      <td>4.0</td>\n",
       "      <td>5.0</td>\n",
       "      <td>874074.75</td>\n",
       "      <td>0</td>\n",
       "      <td>0</td>\n",
       "      <td>0</td>\n",
       "      <td>0</td>\n",
       "      <td>0</td>\n",
       "      <td>1</td>\n",
       "      <td>0</td>\n",
       "      <td>0</td>\n",
       "      <td>1</td>\n",
       "    </tr>\n",
       "  </tbody>\n",
       "</table>\n",
       "</div>\n",
       "      <button class=\"colab-df-convert\" onclick=\"convertToInteractive('df-3d0b5469-4b76-4b63-89d7-dfc9b8501520')\"\n",
       "              title=\"Convert this dataframe to an interactive table.\"\n",
       "              style=\"display:none;\">\n",
       "        \n",
       "  <svg xmlns=\"http://www.w3.org/2000/svg\" height=\"24px\"viewBox=\"0 0 24 24\"\n",
       "       width=\"24px\">\n",
       "    <path d=\"M0 0h24v24H0V0z\" fill=\"none\"/>\n",
       "    <path d=\"M18.56 5.44l.94 2.06.94-2.06 2.06-.94-2.06-.94-.94-2.06-.94 2.06-2.06.94zm-11 1L8.5 8.5l.94-2.06 2.06-.94-2.06-.94L8.5 2.5l-.94 2.06-2.06.94zm10 10l.94 2.06.94-2.06 2.06-.94-2.06-.94-.94-2.06-.94 2.06-2.06.94z\"/><path d=\"M17.41 7.96l-1.37-1.37c-.4-.4-.92-.59-1.43-.59-.52 0-1.04.2-1.43.59L10.3 9.45l-7.72 7.72c-.78.78-.78 2.05 0 2.83L4 21.41c.39.39.9.59 1.41.59.51 0 1.02-.2 1.41-.59l7.78-7.78 2.81-2.81c.8-.78.8-2.07 0-2.86zM5.41 20L4 18.59l7.72-7.72 1.47 1.35L5.41 20z\"/>\n",
       "  </svg>\n",
       "      </button>\n",
       "      \n",
       "  <style>\n",
       "    .colab-df-container {\n",
       "      display:flex;\n",
       "      flex-wrap:wrap;\n",
       "      gap: 12px;\n",
       "    }\n",
       "\n",
       "    .colab-df-convert {\n",
       "      background-color: #E8F0FE;\n",
       "      border: none;\n",
       "      border-radius: 50%;\n",
       "      cursor: pointer;\n",
       "      display: none;\n",
       "      fill: #1967D2;\n",
       "      height: 32px;\n",
       "      padding: 0 0 0 0;\n",
       "      width: 32px;\n",
       "    }\n",
       "\n",
       "    .colab-df-convert:hover {\n",
       "      background-color: #E2EBFA;\n",
       "      box-shadow: 0px 1px 2px rgba(60, 64, 67, 0.3), 0px 1px 3px 1px rgba(60, 64, 67, 0.15);\n",
       "      fill: #174EA6;\n",
       "    }\n",
       "\n",
       "    [theme=dark] .colab-df-convert {\n",
       "      background-color: #3B4455;\n",
       "      fill: #D2E3FC;\n",
       "    }\n",
       "\n",
       "    [theme=dark] .colab-df-convert:hover {\n",
       "      background-color: #434B5C;\n",
       "      box-shadow: 0px 1px 3px 1px rgba(0, 0, 0, 0.15);\n",
       "      filter: drop-shadow(0px 1px 2px rgba(0, 0, 0, 0.3));\n",
       "      fill: #FFFFFF;\n",
       "    }\n",
       "  </style>\n",
       "\n",
       "      <script>\n",
       "        const buttonEl =\n",
       "          document.querySelector('#df-3d0b5469-4b76-4b63-89d7-dfc9b8501520 button.colab-df-convert');\n",
       "        buttonEl.style.display =\n",
       "          google.colab.kernel.accessAllowed ? 'block' : 'none';\n",
       "\n",
       "        async function convertToInteractive(key) {\n",
       "          const element = document.querySelector('#df-3d0b5469-4b76-4b63-89d7-dfc9b8501520');\n",
       "          const dataTable =\n",
       "            await google.colab.kernel.invokeFunction('convertToInteractive',\n",
       "                                                     [key], {});\n",
       "          if (!dataTable) return;\n",
       "\n",
       "          const docLinkHtml = 'Like what you see? Visit the ' +\n",
       "            '<a target=\"_blank\" href=https://colab.research.google.com/notebooks/data_table.ipynb>data table notebook</a>'\n",
       "            + ' to learn more about interactive tables.';\n",
       "          element.innerHTML = '';\n",
       "          dataTable['output_type'] = 'display_data';\n",
       "          await google.colab.output.renderOutput(dataTable, element);\n",
       "          const docLink = document.createElement('div');\n",
       "          docLink.innerHTML = docLinkHtml;\n",
       "          element.appendChild(docLink);\n",
       "        }\n",
       "      </script>\n",
       "    </div>\n",
       "  </div>\n",
       "  "
      ],
      "text/plain": [
       "      Distance   Owner Type  Age of car  engine_displacement  engine_power  \\\n",
       "9655   193400.0           4          85                29120         126.0   \n",
       "\n",
       "      Vroom Audit Rating  door_count  seat_count      Price  Maker_bmw  \\\n",
       "9655                   5         4.0         5.0  874074.75          0   \n",
       "\n",
       "      Maker_fiat  Maker_hyundai  Maker_maserati  Maker_nissan  Maker_skoda  \\\n",
       "9655           0              0               0             0            1   \n",
       "\n",
       "      Maker_toyota  transmission_man  fuel_type_petrol  \n",
       "9655             0                 0                 1  "
      ]
     },
     "execution_count": 116,
     "metadata": {},
     "output_type": "execute_result"
    }
   ],
   "source": [
    "dff[dff['Age of car']>70]"
   ]
  },
  {
   "cell_type": "code",
   "execution_count": 117,
   "id": "8d62b104",
   "metadata": {
    "colab": {
     "base_uri": "https://localhost:8080/"
    },
    "id": "8d62b104",
    "outputId": "47d5d169-5f6b-4877-88da-abd6c8e2940b"
   },
   "outputs": [
    {
     "name": "stdout",
     "output_type": "stream",
     "text": [
      "(37460, 17) (16055, 17)\n",
      "(37460,) (16055,)\n"
     ]
    }
   ],
   "source": [
    "print(X_train.shape,X_test.shape)\n",
    "print(y_train.shape,y_test.shape)"
   ]
  },
  {
   "cell_type": "markdown",
   "id": "2cb281e4",
   "metadata": {
    "id": "2cb281e4"
   },
   "source": [
    "# Model Buidling"
   ]
  },
  {
   "cell_type": "code",
   "execution_count": 118,
   "id": "b78bcf95",
   "metadata": {
    "id": "b78bcf95"
   },
   "outputs": [],
   "source": [
    "def fit_n_print(model, X_train, X_test, y_train, y_test):  # take the model, and data as inputs\n",
    "\n",
    "    model.fit(X_train, y_train)   # fit the model with the train data\n",
    "\n",
    "    pred = model.predict(X_test)  # make predictions on the test set\n",
    "\n",
    "    r2 = r2_score(y_test, pred)\n",
    "    rmse = np.sqrt(mean_squared_error(y_test, pred))\n",
    "                   \n",
    "    return r2, rmse  # return all the metrics"
   ]
  },
  {
   "cell_type": "code",
   "execution_count": 119,
   "id": "5a916bc0",
   "metadata": {
    "id": "5a916bc0"
   },
   "outputs": [],
   "source": [
    "## Intializing the models\n",
    "\n",
    "dt = DecisionTreeRegressor()\n",
    "\n",
    "rf = RandomForestRegressor()\n",
    "\n",
    "bg = BaggingRegressor()\n",
    "\n",
    "gb = GradientBoostingRegressor()\n",
    "\n",
    "ab = AdaBoostRegressor()\n",
    "\n",
    "xgb = XGBRegressor()\n",
    "\n",
    "from sklearn.ensemble import StackingRegressor\n",
    "estimators = [('dt', dt),('rf', rf),('bg', bg), ('gb', gb), ('ab', ab), ('xgb',xgb)]\n",
    "reg = StackingRegressor(estimators=estimators, final_estimator=rf)"
   ]
  },
  {
   "cell_type": "code",
   "execution_count": 120,
   "id": "da2403a5",
   "metadata": {
    "colab": {
     "base_uri": "https://localhost:8080/"
    },
    "id": "da2403a5",
    "outputId": "b85a0b9c-2acf-485a-c85b-5a233c540b4c"
   },
   "outputs": [
    {
     "name": "stdout",
     "output_type": "stream",
     "text": [
      "[06:00:07] WARNING: /workspace/src/objective/regression_obj.cu:152: reg:linear is now deprecated in favor of reg:squarederror.\n",
      "[06:00:31] WARNING: /workspace/src/objective/regression_obj.cu:152: reg:linear is now deprecated in favor of reg:squarederror.\n",
      "[06:02:02] WARNING: /workspace/src/objective/regression_obj.cu:152: reg:linear is now deprecated in favor of reg:squarederror.\n",
      "[06:02:04] WARNING: /workspace/src/objective/regression_obj.cu:152: reg:linear is now deprecated in favor of reg:squarederror.\n",
      "[06:02:05] WARNING: /workspace/src/objective/regression_obj.cu:152: reg:linear is now deprecated in favor of reg:squarederror.\n",
      "[06:02:07] WARNING: /workspace/src/objective/regression_obj.cu:152: reg:linear is now deprecated in favor of reg:squarederror.\n",
      "[06:02:09] WARNING: /workspace/src/objective/regression_obj.cu:152: reg:linear is now deprecated in favor of reg:squarederror.\n"
     ]
    }
   ],
   "source": [
    "result = pd.DataFrame(columns = ['r2_score','RMSE'])\n",
    "\n",
    "for model, model_name in zip([dt, rf, bg, gb, ab, xgb, reg], ['Decision tree', 'Random Forest', 'Bagging', \n",
    "                                                              'Gradient Boosting', 'Ada Boost', 'XG Boost','Stacking']):\n",
    "    \n",
    "    result.loc[model_name] = fit_n_print(model, X_train, X_test, y_train, y_test)"
   ]
  },
  {
   "cell_type": "code",
   "execution_count": 69,
   "id": "m2YPBDKHVMTv",
   "metadata": {
    "colab": {
     "base_uri": "https://localhost:8080/",
     "height": 211
    },
    "id": "m2YPBDKHVMTv",
    "outputId": "3636e850-cc71-4b25-da61-32d729abeaa6"
   },
   "outputs": [
    {
     "data": {
      "text/html": [
       "\n",
       "  <div id=\"df-b6af39bf-425a-42f2-a797-91d0f9d51fb9\">\n",
       "    <div class=\"colab-df-container\">\n",
       "      <div>\n",
       "<style scoped>\n",
       "    .dataframe tbody tr th:only-of-type {\n",
       "        vertical-align: middle;\n",
       "    }\n",
       "\n",
       "    .dataframe tbody tr th {\n",
       "        vertical-align: top;\n",
       "    }\n",
       "\n",
       "    .dataframe thead th {\n",
       "        text-align: right;\n",
       "    }\n",
       "</style>\n",
       "<table border=\"1\" class=\"dataframe\">\n",
       "  <thead>\n",
       "    <tr style=\"text-align: right;\">\n",
       "      <th></th>\n",
       "      <th>Distance</th>\n",
       "      <th>Owner Type</th>\n",
       "      <th>Age of car</th>\n",
       "      <th>engine_displacement</th>\n",
       "      <th>engine_power</th>\n",
       "      <th>Vroom Audit Rating</th>\n",
       "      <th>door_count</th>\n",
       "      <th>seat_count</th>\n",
       "      <th>Maker_bmw</th>\n",
       "      <th>Maker_fiat</th>\n",
       "      <th>Maker_hyundai</th>\n",
       "      <th>Maker_maserati</th>\n",
       "      <th>Maker_nissan</th>\n",
       "      <th>Maker_skoda</th>\n",
       "      <th>Maker_toyota</th>\n",
       "      <th>transmission_man</th>\n",
       "      <th>fuel_type_petrol</th>\n",
       "    </tr>\n",
       "  </thead>\n",
       "  <tbody>\n",
       "    <tr>\n",
       "      <th>51440</th>\n",
       "      <td>28000.0</td>\n",
       "      <td>2</td>\n",
       "      <td>5</td>\n",
       "      <td>1968</td>\n",
       "      <td>135.0</td>\n",
       "      <td>7</td>\n",
       "      <td>4.0</td>\n",
       "      <td>5.0</td>\n",
       "      <td>0</td>\n",
       "      <td>0</td>\n",
       "      <td>0</td>\n",
       "      <td>0</td>\n",
       "      <td>0</td>\n",
       "      <td>1</td>\n",
       "      <td>0</td>\n",
       "      <td>0</td>\n",
       "      <td>0</td>\n",
       "    </tr>\n",
       "    <tr>\n",
       "      <th>40392</th>\n",
       "      <td>109738.0</td>\n",
       "      <td>3</td>\n",
       "      <td>7</td>\n",
       "      <td>1995</td>\n",
       "      <td>135.0</td>\n",
       "      <td>4</td>\n",
       "      <td>4.0</td>\n",
       "      <td>5.0</td>\n",
       "      <td>1</td>\n",
       "      <td>0</td>\n",
       "      <td>0</td>\n",
       "      <td>0</td>\n",
       "      <td>0</td>\n",
       "      <td>0</td>\n",
       "      <td>0</td>\n",
       "      <td>0</td>\n",
       "      <td>0</td>\n",
       "    </tr>\n",
       "  </tbody>\n",
       "</table>\n",
       "</div>\n",
       "      <button class=\"colab-df-convert\" onclick=\"convertToInteractive('df-b6af39bf-425a-42f2-a797-91d0f9d51fb9')\"\n",
       "              title=\"Convert this dataframe to an interactive table.\"\n",
       "              style=\"display:none;\">\n",
       "        \n",
       "  <svg xmlns=\"http://www.w3.org/2000/svg\" height=\"24px\"viewBox=\"0 0 24 24\"\n",
       "       width=\"24px\">\n",
       "    <path d=\"M0 0h24v24H0V0z\" fill=\"none\"/>\n",
       "    <path d=\"M18.56 5.44l.94 2.06.94-2.06 2.06-.94-2.06-.94-.94-2.06-.94 2.06-2.06.94zm-11 1L8.5 8.5l.94-2.06 2.06-.94-2.06-.94L8.5 2.5l-.94 2.06-2.06.94zm10 10l.94 2.06.94-2.06 2.06-.94-2.06-.94-.94-2.06-.94 2.06-2.06.94z\"/><path d=\"M17.41 7.96l-1.37-1.37c-.4-.4-.92-.59-1.43-.59-.52 0-1.04.2-1.43.59L10.3 9.45l-7.72 7.72c-.78.78-.78 2.05 0 2.83L4 21.41c.39.39.9.59 1.41.59.51 0 1.02-.2 1.41-.59l7.78-7.78 2.81-2.81c.8-.78.8-2.07 0-2.86zM5.41 20L4 18.59l7.72-7.72 1.47 1.35L5.41 20z\"/>\n",
       "  </svg>\n",
       "      </button>\n",
       "      \n",
       "  <style>\n",
       "    .colab-df-container {\n",
       "      display:flex;\n",
       "      flex-wrap:wrap;\n",
       "      gap: 12px;\n",
       "    }\n",
       "\n",
       "    .colab-df-convert {\n",
       "      background-color: #E8F0FE;\n",
       "      border: none;\n",
       "      border-radius: 50%;\n",
       "      cursor: pointer;\n",
       "      display: none;\n",
       "      fill: #1967D2;\n",
       "      height: 32px;\n",
       "      padding: 0 0 0 0;\n",
       "      width: 32px;\n",
       "    }\n",
       "\n",
       "    .colab-df-convert:hover {\n",
       "      background-color: #E2EBFA;\n",
       "      box-shadow: 0px 1px 2px rgba(60, 64, 67, 0.3), 0px 1px 3px 1px rgba(60, 64, 67, 0.15);\n",
       "      fill: #174EA6;\n",
       "    }\n",
       "\n",
       "    [theme=dark] .colab-df-convert {\n",
       "      background-color: #3B4455;\n",
       "      fill: #D2E3FC;\n",
       "    }\n",
       "\n",
       "    [theme=dark] .colab-df-convert:hover {\n",
       "      background-color: #434B5C;\n",
       "      box-shadow: 0px 1px 3px 1px rgba(0, 0, 0, 0.15);\n",
       "      filter: drop-shadow(0px 1px 2px rgba(0, 0, 0, 0.3));\n",
       "      fill: #FFFFFF;\n",
       "    }\n",
       "  </style>\n",
       "\n",
       "      <script>\n",
       "        const buttonEl =\n",
       "          document.querySelector('#df-b6af39bf-425a-42f2-a797-91d0f9d51fb9 button.colab-df-convert');\n",
       "        buttonEl.style.display =\n",
       "          google.colab.kernel.accessAllowed ? 'block' : 'none';\n",
       "\n",
       "        async function convertToInteractive(key) {\n",
       "          const element = document.querySelector('#df-b6af39bf-425a-42f2-a797-91d0f9d51fb9');\n",
       "          const dataTable =\n",
       "            await google.colab.kernel.invokeFunction('convertToInteractive',\n",
       "                                                     [key], {});\n",
       "          if (!dataTable) return;\n",
       "\n",
       "          const docLinkHtml = 'Like what you see? Visit the ' +\n",
       "            '<a target=\"_blank\" href=https://colab.research.google.com/notebooks/data_table.ipynb>data table notebook</a>'\n",
       "            + ' to learn more about interactive tables.';\n",
       "          element.innerHTML = '';\n",
       "          dataTable['output_type'] = 'display_data';\n",
       "          await google.colab.output.renderOutput(dataTable, element);\n",
       "          const docLink = document.createElement('div');\n",
       "          docLink.innerHTML = docLinkHtml;\n",
       "          element.appendChild(docLink);\n",
       "        }\n",
       "      </script>\n",
       "    </div>\n",
       "  </div>\n",
       "  "
      ],
      "text/plain": [
       "       Distance   Owner Type  Age of car  engine_displacement  engine_power  \\\n",
       "51440    28000.0           2           5                 1968         135.0   \n",
       "40392   109738.0           3           7                 1995         135.0   \n",
       "\n",
       "       Vroom Audit Rating  door_count  seat_count  Maker_bmw  Maker_fiat  \\\n",
       "51440                   7         4.0         5.0          0           0   \n",
       "40392                   4         4.0         5.0          1           0   \n",
       "\n",
       "       Maker_hyundai  Maker_maserati  Maker_nissan  Maker_skoda  Maker_toyota  \\\n",
       "51440              0               0             0            1             0   \n",
       "40392              0               0             0            0             0   \n",
       "\n",
       "       transmission_man  fuel_type_petrol  \n",
       "51440                 0                 0  \n",
       "40392                 0                 0  "
      ]
     },
     "execution_count": 69,
     "metadata": {},
     "output_type": "execute_result"
    }
   ],
   "source": [
    "X_train.head(2)"
   ]
  },
  {
   "cell_type": "code",
   "execution_count": 121,
   "id": "696a7f25",
   "metadata": {
    "colab": {
     "base_uri": "https://localhost:8080/",
     "height": 269
    },
    "id": "696a7f25",
    "outputId": "3a2daedc-95e4-496b-8b71-3e396c540ca8"
   },
   "outputs": [
    {
     "data": {
      "text/html": [
       "\n",
       "  <div id=\"df-18eaafe8-b625-4a49-a130-d2c986bff954\">\n",
       "    <div class=\"colab-df-container\">\n",
       "      <div>\n",
       "<style scoped>\n",
       "    .dataframe tbody tr th:only-of-type {\n",
       "        vertical-align: middle;\n",
       "    }\n",
       "\n",
       "    .dataframe tbody tr th {\n",
       "        vertical-align: top;\n",
       "    }\n",
       "\n",
       "    .dataframe thead th {\n",
       "        text-align: right;\n",
       "    }\n",
       "</style>\n",
       "<table border=\"1\" class=\"dataframe\">\n",
       "  <thead>\n",
       "    <tr style=\"text-align: right;\">\n",
       "      <th></th>\n",
       "      <th>r2_score</th>\n",
       "      <th>RMSE</th>\n",
       "    </tr>\n",
       "  </thead>\n",
       "  <tbody>\n",
       "    <tr>\n",
       "      <th>Decision tree</th>\n",
       "      <td>0.823027</td>\n",
       "      <td>348990.384271</td>\n",
       "    </tr>\n",
       "    <tr>\n",
       "      <th>Random Forest</th>\n",
       "      <td>0.922652</td>\n",
       "      <td>230719.186754</td>\n",
       "    </tr>\n",
       "    <tr>\n",
       "      <th>Bagging</th>\n",
       "      <td>0.912303</td>\n",
       "      <td>245669.900197</td>\n",
       "    </tr>\n",
       "    <tr>\n",
       "      <th>Gradient Boosting</th>\n",
       "      <td>0.918487</td>\n",
       "      <td>236849.887672</td>\n",
       "    </tr>\n",
       "    <tr>\n",
       "      <th>Ada Boost</th>\n",
       "      <td>0.602703</td>\n",
       "      <td>522898.822954</td>\n",
       "    </tr>\n",
       "    <tr>\n",
       "      <th>XG Boost</th>\n",
       "      <td>0.918100</td>\n",
       "      <td>237411.906790</td>\n",
       "    </tr>\n",
       "    <tr>\n",
       "      <th>Stacking</th>\n",
       "      <td>0.935029</td>\n",
       "      <td>211455.222860</td>\n",
       "    </tr>\n",
       "  </tbody>\n",
       "</table>\n",
       "</div>\n",
       "      <button class=\"colab-df-convert\" onclick=\"convertToInteractive('df-18eaafe8-b625-4a49-a130-d2c986bff954')\"\n",
       "              title=\"Convert this dataframe to an interactive table.\"\n",
       "              style=\"display:none;\">\n",
       "        \n",
       "  <svg xmlns=\"http://www.w3.org/2000/svg\" height=\"24px\"viewBox=\"0 0 24 24\"\n",
       "       width=\"24px\">\n",
       "    <path d=\"M0 0h24v24H0V0z\" fill=\"none\"/>\n",
       "    <path d=\"M18.56 5.44l.94 2.06.94-2.06 2.06-.94-2.06-.94-.94-2.06-.94 2.06-2.06.94zm-11 1L8.5 8.5l.94-2.06 2.06-.94-2.06-.94L8.5 2.5l-.94 2.06-2.06.94zm10 10l.94 2.06.94-2.06 2.06-.94-2.06-.94-.94-2.06-.94 2.06-2.06.94z\"/><path d=\"M17.41 7.96l-1.37-1.37c-.4-.4-.92-.59-1.43-.59-.52 0-1.04.2-1.43.59L10.3 9.45l-7.72 7.72c-.78.78-.78 2.05 0 2.83L4 21.41c.39.39.9.59 1.41.59.51 0 1.02-.2 1.41-.59l7.78-7.78 2.81-2.81c.8-.78.8-2.07 0-2.86zM5.41 20L4 18.59l7.72-7.72 1.47 1.35L5.41 20z\"/>\n",
       "  </svg>\n",
       "      </button>\n",
       "      \n",
       "  <style>\n",
       "    .colab-df-container {\n",
       "      display:flex;\n",
       "      flex-wrap:wrap;\n",
       "      gap: 12px;\n",
       "    }\n",
       "\n",
       "    .colab-df-convert {\n",
       "      background-color: #E8F0FE;\n",
       "      border: none;\n",
       "      border-radius: 50%;\n",
       "      cursor: pointer;\n",
       "      display: none;\n",
       "      fill: #1967D2;\n",
       "      height: 32px;\n",
       "      padding: 0 0 0 0;\n",
       "      width: 32px;\n",
       "    }\n",
       "\n",
       "    .colab-df-convert:hover {\n",
       "      background-color: #E2EBFA;\n",
       "      box-shadow: 0px 1px 2px rgba(60, 64, 67, 0.3), 0px 1px 3px 1px rgba(60, 64, 67, 0.15);\n",
       "      fill: #174EA6;\n",
       "    }\n",
       "\n",
       "    [theme=dark] .colab-df-convert {\n",
       "      background-color: #3B4455;\n",
       "      fill: #D2E3FC;\n",
       "    }\n",
       "\n",
       "    [theme=dark] .colab-df-convert:hover {\n",
       "      background-color: #434B5C;\n",
       "      box-shadow: 0px 1px 3px 1px rgba(0, 0, 0, 0.15);\n",
       "      filter: drop-shadow(0px 1px 2px rgba(0, 0, 0, 0.3));\n",
       "      fill: #FFFFFF;\n",
       "    }\n",
       "  </style>\n",
       "\n",
       "      <script>\n",
       "        const buttonEl =\n",
       "          document.querySelector('#df-18eaafe8-b625-4a49-a130-d2c986bff954 button.colab-df-convert');\n",
       "        buttonEl.style.display =\n",
       "          google.colab.kernel.accessAllowed ? 'block' : 'none';\n",
       "\n",
       "        async function convertToInteractive(key) {\n",
       "          const element = document.querySelector('#df-18eaafe8-b625-4a49-a130-d2c986bff954');\n",
       "          const dataTable =\n",
       "            await google.colab.kernel.invokeFunction('convertToInteractive',\n",
       "                                                     [key], {});\n",
       "          if (!dataTable) return;\n",
       "\n",
       "          const docLinkHtml = 'Like what you see? Visit the ' +\n",
       "            '<a target=\"_blank\" href=https://colab.research.google.com/notebooks/data_table.ipynb>data table notebook</a>'\n",
       "            + ' to learn more about interactive tables.';\n",
       "          element.innerHTML = '';\n",
       "          dataTable['output_type'] = 'display_data';\n",
       "          await google.colab.output.renderOutput(dataTable, element);\n",
       "          const docLink = document.createElement('div');\n",
       "          docLink.innerHTML = docLinkHtml;\n",
       "          element.appendChild(docLink);\n",
       "        }\n",
       "      </script>\n",
       "    </div>\n",
       "  </div>\n",
       "  "
      ],
      "text/plain": [
       "                   r2_score           RMSE\n",
       "Decision tree      0.823027  348990.384271\n",
       "Random Forest      0.922652  230719.186754\n",
       "Bagging            0.912303  245669.900197\n",
       "Gradient Boosting  0.918487  236849.887672\n",
       "Ada Boost          0.602703  522898.822954\n",
       "XG Boost           0.918100  237411.906790\n",
       "Stacking           0.935029  211455.222860"
      ]
     },
     "execution_count": 121,
     "metadata": {},
     "output_type": "execute_result"
    }
   ],
   "source": [
    "result"
   ]
  },
  {
   "cell_type": "code",
   "execution_count": 141,
   "id": "NrGJpKeeTtxG",
   "metadata": {
    "colab": {
     "base_uri": "https://localhost:8080/"
    },
    "id": "NrGJpKeeTtxG",
    "outputId": "2cc57d02-19d1-43d6-ce6e-65466ac01614"
   },
   "outputs": [
    {
     "name": "stdout",
     "output_type": "stream",
     "text": [
      "[06:13:48] WARNING: /workspace/src/objective/regression_obj.cu:152: reg:linear is now deprecated in favor of reg:squarederror.\n",
      "[06:14:11] WARNING: /workspace/src/objective/regression_obj.cu:152: reg:linear is now deprecated in favor of reg:squarederror.\n",
      "[06:15:39] WARNING: /workspace/src/objective/regression_obj.cu:152: reg:linear is now deprecated in favor of reg:squarederror.\n",
      "[06:15:41] WARNING: /workspace/src/objective/regression_obj.cu:152: reg:linear is now deprecated in favor of reg:squarederror.\n",
      "[06:15:43] WARNING: /workspace/src/objective/regression_obj.cu:152: reg:linear is now deprecated in favor of reg:squarederror.\n",
      "[06:15:45] WARNING: /workspace/src/objective/regression_obj.cu:152: reg:linear is now deprecated in favor of reg:squarederror.\n",
      "[06:15:47] WARNING: /workspace/src/objective/regression_obj.cu:152: reg:linear is now deprecated in favor of reg:squarederror.\n"
     ]
    }
   ],
   "source": [
    "result_sc = pd.DataFrame(columns = ['r2_score','RMSE'])\n",
    "\n",
    "for model, model_name in zip([dt, rf, bg, gb, ab, xgb, reg], ['Decision tree', 'Random Forest', 'Bagging', \n",
    "                                                              'Gradient Boosting', 'Ada Boost', 'XG Boost','Stacking']):\n",
    "    \n",
    "    result_sc.loc[model_name] = fit_n_print(model, X_train_sc, X_test_sc, y_train, y_test)"
   ]
  },
  {
   "cell_type": "code",
   "execution_count": 142,
   "id": "BDYMu3PSUDr8",
   "metadata": {
    "colab": {
     "base_uri": "https://localhost:8080/",
     "height": 269
    },
    "id": "BDYMu3PSUDr8",
    "outputId": "4e4fbaed-798c-4f12-8490-a8c03725a5ec"
   },
   "outputs": [
    {
     "data": {
      "text/html": [
       "\n",
       "  <div id=\"df-3cef24c9-0453-402c-8d91-3179596c0acd\">\n",
       "    <div class=\"colab-df-container\">\n",
       "      <div>\n",
       "<style scoped>\n",
       "    .dataframe tbody tr th:only-of-type {\n",
       "        vertical-align: middle;\n",
       "    }\n",
       "\n",
       "    .dataframe tbody tr th {\n",
       "        vertical-align: top;\n",
       "    }\n",
       "\n",
       "    .dataframe thead th {\n",
       "        text-align: right;\n",
       "    }\n",
       "</style>\n",
       "<table border=\"1\" class=\"dataframe\">\n",
       "  <thead>\n",
       "    <tr style=\"text-align: right;\">\n",
       "      <th></th>\n",
       "      <th>r2_score</th>\n",
       "      <th>RMSE</th>\n",
       "    </tr>\n",
       "  </thead>\n",
       "  <tbody>\n",
       "    <tr>\n",
       "      <th>Decision tree</th>\n",
       "      <td>0.823924</td>\n",
       "      <td>348105.143740</td>\n",
       "    </tr>\n",
       "    <tr>\n",
       "      <th>Random Forest</th>\n",
       "      <td>0.919826</td>\n",
       "      <td>234896.346819</td>\n",
       "    </tr>\n",
       "    <tr>\n",
       "      <th>Bagging</th>\n",
       "      <td>0.927533</td>\n",
       "      <td>223320.824566</td>\n",
       "    </tr>\n",
       "    <tr>\n",
       "      <th>Gradient Boosting</th>\n",
       "      <td>0.918514</td>\n",
       "      <td>236811.088096</td>\n",
       "    </tr>\n",
       "    <tr>\n",
       "      <th>Ada Boost</th>\n",
       "      <td>0.455925</td>\n",
       "      <td>611912.459406</td>\n",
       "    </tr>\n",
       "    <tr>\n",
       "      <th>XG Boost</th>\n",
       "      <td>0.918100</td>\n",
       "      <td>237411.906790</td>\n",
       "    </tr>\n",
       "    <tr>\n",
       "      <th>Stacking</th>\n",
       "      <td>0.932606</td>\n",
       "      <td>215362.351365</td>\n",
       "    </tr>\n",
       "  </tbody>\n",
       "</table>\n",
       "</div>\n",
       "      <button class=\"colab-df-convert\" onclick=\"convertToInteractive('df-3cef24c9-0453-402c-8d91-3179596c0acd')\"\n",
       "              title=\"Convert this dataframe to an interactive table.\"\n",
       "              style=\"display:none;\">\n",
       "        \n",
       "  <svg xmlns=\"http://www.w3.org/2000/svg\" height=\"24px\"viewBox=\"0 0 24 24\"\n",
       "       width=\"24px\">\n",
       "    <path d=\"M0 0h24v24H0V0z\" fill=\"none\"/>\n",
       "    <path d=\"M18.56 5.44l.94 2.06.94-2.06 2.06-.94-2.06-.94-.94-2.06-.94 2.06-2.06.94zm-11 1L8.5 8.5l.94-2.06 2.06-.94-2.06-.94L8.5 2.5l-.94 2.06-2.06.94zm10 10l.94 2.06.94-2.06 2.06-.94-2.06-.94-.94-2.06-.94 2.06-2.06.94z\"/><path d=\"M17.41 7.96l-1.37-1.37c-.4-.4-.92-.59-1.43-.59-.52 0-1.04.2-1.43.59L10.3 9.45l-7.72 7.72c-.78.78-.78 2.05 0 2.83L4 21.41c.39.39.9.59 1.41.59.51 0 1.02-.2 1.41-.59l7.78-7.78 2.81-2.81c.8-.78.8-2.07 0-2.86zM5.41 20L4 18.59l7.72-7.72 1.47 1.35L5.41 20z\"/>\n",
       "  </svg>\n",
       "      </button>\n",
       "      \n",
       "  <style>\n",
       "    .colab-df-container {\n",
       "      display:flex;\n",
       "      flex-wrap:wrap;\n",
       "      gap: 12px;\n",
       "    }\n",
       "\n",
       "    .colab-df-convert {\n",
       "      background-color: #E8F0FE;\n",
       "      border: none;\n",
       "      border-radius: 50%;\n",
       "      cursor: pointer;\n",
       "      display: none;\n",
       "      fill: #1967D2;\n",
       "      height: 32px;\n",
       "      padding: 0 0 0 0;\n",
       "      width: 32px;\n",
       "    }\n",
       "\n",
       "    .colab-df-convert:hover {\n",
       "      background-color: #E2EBFA;\n",
       "      box-shadow: 0px 1px 2px rgba(60, 64, 67, 0.3), 0px 1px 3px 1px rgba(60, 64, 67, 0.15);\n",
       "      fill: #174EA6;\n",
       "    }\n",
       "\n",
       "    [theme=dark] .colab-df-convert {\n",
       "      background-color: #3B4455;\n",
       "      fill: #D2E3FC;\n",
       "    }\n",
       "\n",
       "    [theme=dark] .colab-df-convert:hover {\n",
       "      background-color: #434B5C;\n",
       "      box-shadow: 0px 1px 3px 1px rgba(0, 0, 0, 0.15);\n",
       "      filter: drop-shadow(0px 1px 2px rgba(0, 0, 0, 0.3));\n",
       "      fill: #FFFFFF;\n",
       "    }\n",
       "  </style>\n",
       "\n",
       "      <script>\n",
       "        const buttonEl =\n",
       "          document.querySelector('#df-3cef24c9-0453-402c-8d91-3179596c0acd button.colab-df-convert');\n",
       "        buttonEl.style.display =\n",
       "          google.colab.kernel.accessAllowed ? 'block' : 'none';\n",
       "\n",
       "        async function convertToInteractive(key) {\n",
       "          const element = document.querySelector('#df-3cef24c9-0453-402c-8d91-3179596c0acd');\n",
       "          const dataTable =\n",
       "            await google.colab.kernel.invokeFunction('convertToInteractive',\n",
       "                                                     [key], {});\n",
       "          if (!dataTable) return;\n",
       "\n",
       "          const docLinkHtml = 'Like what you see? Visit the ' +\n",
       "            '<a target=\"_blank\" href=https://colab.research.google.com/notebooks/data_table.ipynb>data table notebook</a>'\n",
       "            + ' to learn more about interactive tables.';\n",
       "          element.innerHTML = '';\n",
       "          dataTable['output_type'] = 'display_data';\n",
       "          await google.colab.output.renderOutput(dataTable, element);\n",
       "          const docLink = document.createElement('div');\n",
       "          docLink.innerHTML = docLinkHtml;\n",
       "          element.appendChild(docLink);\n",
       "        }\n",
       "      </script>\n",
       "    </div>\n",
       "  </div>\n",
       "  "
      ],
      "text/plain": [
       "                   r2_score           RMSE\n",
       "Decision tree      0.823924  348105.143740\n",
       "Random Forest      0.919826  234896.346819\n",
       "Bagging            0.927533  223320.824566\n",
       "Gradient Boosting  0.918514  236811.088096\n",
       "Ada Boost          0.455925  611912.459406\n",
       "XG Boost           0.918100  237411.906790\n",
       "Stacking           0.932606  215362.351365"
      ]
     },
     "execution_count": 142,
     "metadata": {},
     "output_type": "execute_result"
    }
   ],
   "source": [
    "result_sc"
   ]
  },
  {
   "cell_type": "code",
   "execution_count": 143,
   "id": "vxZHnecKbvzs",
   "metadata": {
    "colab": {
     "base_uri": "https://localhost:8080/"
    },
    "id": "vxZHnecKbvzs",
    "outputId": "3f5e5433-9bfa-4270-ab50-57a34fd13a5a"
   },
   "outputs": [
    {
     "data": {
      "text/plain": [
       "{'bootstrap': True,\n",
       " 'ccp_alpha': 0.0,\n",
       " 'criterion': 'squared_error',\n",
       " 'max_depth': None,\n",
       " 'max_features': 'auto',\n",
       " 'max_leaf_nodes': None,\n",
       " 'max_samples': None,\n",
       " 'min_impurity_decrease': 0.0,\n",
       " 'min_samples_leaf': 1,\n",
       " 'min_samples_split': 2,\n",
       " 'min_weight_fraction_leaf': 0.0,\n",
       " 'n_estimators': 100,\n",
       " 'n_jobs': None,\n",
       " 'oob_score': False,\n",
       " 'random_state': None,\n",
       " 'verbose': 0,\n",
       " 'warm_start': False}"
      ]
     },
     "execution_count": 143,
     "metadata": {},
     "output_type": "execute_result"
    }
   ],
   "source": [
    "rf.get_params()"
   ]
  },
  {
   "cell_type": "code",
   "execution_count": 144,
   "id": "8zJLUxlcac3g",
   "metadata": {
    "colab": {
     "base_uri": "https://localhost:8080/",
     "height": 607
    },
    "id": "8zJLUxlcac3g",
    "outputId": "ebc12c8a-1edf-4991-a28b-3841d73b61ad"
   },
   "outputs": [
    {
     "data": {
      "image/png": "[encoded data removed]",
      "text/plain": [
       "<Figure size 864x720 with 1 Axes>"
      ]
     },
     "metadata": {
      "needs_background": "light"
     },
     "output_type": "display_data"
    }
   ],
   "source": [
    "from IPython.core.pylabtools import figsize\n",
    "import matplotlib.pyplot as plt\n",
    "plt.rcParams[\"figure.figsize\"] = (12,10)\n",
    "\n",
    "feat_importances = pd.Series(rf.feature_importances_, index=X_train.columns)\n",
    "feat_importances.nlargest(15).plot(kind='barh')\n",
    "plt.title(\"Top 15 important features\")\n",
    "plt.show()"
   ]
  },
  {
   "cell_type": "code",
   "execution_count": 145,
   "id": "3HbRqZ8TdAAU",
   "metadata": {
    "colab": {
     "base_uri": "https://localhost:8080/",
     "height": 634
    },
    "id": "3HbRqZ8TdAAU",
    "outputId": "b190183b-a2f5-4f90-d0a6-ca99feea6f54"
   },
   "outputs": [
    {
     "data": {
      "text/plain": [
       "Text(0, 0.5, 'y_pred')"
      ]
     },
     "execution_count": 145,
     "metadata": {},
     "output_type": "execute_result"
    },
    {
     "data": {
      "image/png": "[encoded data removed]",
      "text/plain": [
       "<Figure size 864x720 with 1 Axes>"
      ]
     },
     "metadata": {
      "needs_background": "light"
     },
     "output_type": "display_data"
    }
   ],
   "source": [
    "fig = plt.figure()\n",
    "y_pred_sc = rf.predict(X_test_sc)\n",
    "plt.scatter(y_test, y_pred_sc)              \n",
    "plt.xlabel('y_test')                         \n",
    "plt.ylabel('y_pred')  "
   ]
  },
  {
   "cell_type": "markdown",
   "id": "4boSafv3gFq4",
   "metadata": {
    "id": "4boSafv3gFq4"
   },
   "source": [
    "- We can see that some predictions are very off the trend. We could debug and analyse them separately in order to reduce error"
   ]
  },
  {
   "cell_type": "markdown",
   "id": "d51a6def",
   "metadata": {
    "id": "d51a6def"
   },
   "source": [
    "# Hyperparameter Tuning for Random Forest Regressor model"
   ]
  },
  {
   "cell_type": "markdown",
   "id": "K0uWSpcVURf5",
   "metadata": {
    "id": "K0uWSpcVURf5"
   },
   "source": [
    "## Grid Search"
   ]
  },
  {
   "cell_type": "code",
   "execution_count": 146,
   "id": "d77ac719",
   "metadata": {
    "id": "d77ac719"
   },
   "outputs": [],
   "source": [
    "parameters = [{'n_estimators':[500, 1000],\n",
    "              'min_samples_split':[5,8, 11]}]\n",
    "\n",
    "rf_1 = RandomForestRegressor(random_state=0)\n",
    "\n",
    "rf_grid_search = GridSearchCV(estimator=rf_1,\n",
    "                             param_grid=parameters,\n",
    "                             cv=3)\n",
    "\n",
    "rf_grid_search_model = rf_grid_search.fit(X_train_sc,y_train) "
   ]
  },
  {
   "cell_type": "code",
   "execution_count": 147,
   "id": "5vf6xa_j-Nig",
   "metadata": {
    "colab": {
     "base_uri": "https://localhost:8080/"
    },
    "id": "5vf6xa_j-Nig",
    "outputId": "3a47c5ae-1357-454d-fa89-b5267c51dbc4"
   },
   "outputs": [
    {
     "data": {
      "text/plain": [
       "{'min_samples_split': 11, 'n_estimators': 1000}"
      ]
     },
     "execution_count": 147,
     "metadata": {},
     "output_type": "execute_result"
    }
   ],
   "source": [
    "rf_grid_search_model.best_params_"
   ]
  },
  {
   "cell_type": "code",
   "execution_count": 148,
   "id": "A_wgtbnt-wKC",
   "metadata": {
    "colab": {
     "base_uri": "https://localhost:8080/"
    },
    "id": "A_wgtbnt-wKC",
    "outputId": "044b8bc3-3880-4b23-b6ef-ed5050bdab59"
   },
   "outputs": [
    {
     "name": "stdout",
     "output_type": "stream",
     "text": [
      "0.9356999803000489\n",
      "210361.1370688052\n"
     ]
    }
   ],
   "source": [
    "best_grid = rf_grid_search_model.best_estimator_\n",
    "pred_GS = best_grid.predict(X_test_sc)\n",
    "\n",
    "print(r2_score(y_test, pred_GS))\n",
    "print(np.sqrt(mean_squared_error(y_test, pred_GS)))"
   ]
  },
  {
   "cell_type": "code",
   "execution_count": 149,
   "id": "J10YL2x4Ue4w",
   "metadata": {
    "colab": {
     "base_uri": "https://localhost:8080/"
    },
    "id": "J10YL2x4Ue4w",
    "outputId": "112ee0a7-337f-42d1-cb81-668d1973c219"
   },
   "outputs": [
    {
     "data": {
      "text/plain": [
       "RandomForestRegressor(min_samples_split=11, n_estimators=1000, random_state=0)"
      ]
     },
     "execution_count": 149,
     "metadata": {},
     "output_type": "execute_result"
    }
   ],
   "source": [
    "best_grid"
   ]
  },
  {
   "cell_type": "code",
   "execution_count": 150,
   "id": "oXvSgJchUkIu",
   "metadata": {
    "colab": {
     "base_uri": "https://localhost:8080/"
    },
    "id": "oXvSgJchUkIu",
    "outputId": "c52a70aa-110e-4c77-cd44-afd2915ddbeb"
   },
   "outputs": [
    {
     "data": {
      "text/plain": [
       "RandomForestRegressor(min_samples_split=11, n_estimators=1000, random_state=0)"
      ]
     },
     "execution_count": 150,
     "metadata": {},
     "output_type": "execute_result"
    }
   ],
   "source": [
    "rf_grid_search_model.best_estimator_"
   ]
  },
  {
   "cell_type": "markdown",
   "id": "RZUzr6NtUU_u",
   "metadata": {
    "id": "RZUzr6NtUU_u"
   },
   "source": [
    "## Randomized Search"
   ]
  },
  {
   "cell_type": "code",
   "execution_count": 151,
   "id": "7f6eb6f0",
   "metadata": {
    "id": "7f6eb6f0"
   },
   "outputs": [],
   "source": [
    "from sklearn.model_selection import RandomizedSearchCV\n",
    "parameters = [{'n_estimators':[50,100,500],\n",
    "              'min_samples_split':[2, 5,8]}]\n",
    "\n",
    "rf = RandomForestRegressor(random_state=0)\n",
    "\n",
    "rf_random_search = RandomizedSearchCV(estimator=rf,\n",
    "                                    param_distributions=parameters,\n",
    "                                    cv=3)\n",
    "\n",
    "rf_random_search_model = rf_random_search.fit(X_train_sc,y_train) "
   ]
  },
  {
   "cell_type": "code",
   "execution_count": 152,
   "id": "4dM-7S_jSgaU",
   "metadata": {
    "colab": {
     "base_uri": "https://localhost:8080/"
    },
    "id": "4dM-7S_jSgaU",
    "outputId": "ff24f7e0-ae34-4b5c-f4c8-ac6a687df980"
   },
   "outputs": [
    {
     "data": {
      "text/plain": [
       "{'n_estimators': 500, 'min_samples_split': 8}"
      ]
     },
     "execution_count": 152,
     "metadata": {},
     "output_type": "execute_result"
    }
   ],
   "source": [
    "rf_random_search_model.best_params_"
   ]
  },
  {
   "cell_type": "code",
   "execution_count": 153,
   "id": "_4iIGs7IUiKW",
   "metadata": {
    "colab": {
     "base_uri": "https://localhost:8080/"
    },
    "id": "_4iIGs7IUiKW",
    "outputId": "ff875f6d-ca3a-403d-d0e6-b42777adcd5d"
   },
   "outputs": [
    {
     "name": "stdout",
     "output_type": "stream",
     "text": [
      "0.9333251659670727\n",
      "0.9333251659670727\n",
      "214210.58552548042\n"
     ]
    }
   ],
   "source": [
    "best_random = rf_random_search_model.best_estimator_ \n",
    "pred =  best_random.predict(X_test_sc) # best ensemble model (with optimal combination of hyperparameters)\n",
    "print(best_random.score(X_test_sc , y_test))\n",
    "print(r2_score(y_test, pred))\n",
    "print(np.sqrt(mean_squared_error(y_test, pred)))"
   ]
  },
  {
   "cell_type": "markdown",
   "id": "5Xt7zTv3zeLC",
   "metadata": {
    "id": "5Xt7zTv3zeLC"
   },
   "source": [
    "## Conclusion\n",
    "\n",
    "- We are able to get better accuracy post tuning\n",
    "- We saw that outliers have influnced the prediction. We can deal with these outliers in a more systematic way and improve the accuracy"
   ]
  },
  {
   "cell_type": "markdown",
   "id": "TwoCOBFO0yT5",
   "metadata": {
    "id": "TwoCOBFO0yT5"
   },
   "source": [
    "# Final Prediction (Optional)"
   ]
  },
  {
   "cell_type": "code",
   "execution_count": 154,
   "id": "decf003c",
   "metadata": {
    "id": "decf003c"
   },
   "outputs": [],
   "source": [
    "test_set = pd.read_csv(\"Test Data Set.csv\")## test dataset given for the hackathon"
   ]
  },
  {
   "cell_type": "code",
   "execution_count": 155,
   "id": "eb634ebc",
   "metadata": {
    "id": "eb634ebc"
   },
   "outputs": [],
   "source": [
    "## Same Preprocessing steps that we done for the train dataset above\n",
    "\n",
    "test_set.door_count.replace('None', np.NaN, inplace = True)\n",
    "test_set.seat_count.replace('None', np.NaN, inplace = True)\n",
    "\n",
    "test_set.door_count = test_set.door_count.astype('float')\n",
    "test_set.seat_count = test_set.seat_count.astype('float')\n",
    "\n",
    "test_set['Distance '].fillna(test_set['Distance '].median(), inplace = True)\n",
    "test_set['engine_power'].fillna(test_set['engine_power'].median(), inplace = True)\n",
    "test_set['door_count'].fillna(int(test_set['door_count'].mode()), inplace = True)\n",
    "test_set['seat_count'].fillna(int(test_set['seat_count'].mode()), inplace = True)\n",
    "test_set['Owner Type'] = test_set['Owner Type'].replace({'First':1,'Second':2,'Third':3,'Fourth & Above':4})\n",
    "\n",
    "test_set.drop(columns= ['Id','manufacture_year','model','Location','body_type'], inplace= True)\n"
   ]
  },
  {
   "cell_type": "code",
   "execution_count": 156,
   "id": "pldasPghyTNT",
   "metadata": {
    "id": "pldasPghyTNT"
   },
   "outputs": [],
   "source": [
    "test_set_final = pd.get_dummies(test_set, drop_first = True)"
   ]
  },
  {
   "cell_type": "code",
   "execution_count": 157,
   "id": "FBAEk1ssVW2P",
   "metadata": {
    "colab": {
     "base_uri": "https://localhost:8080/"
    },
    "id": "FBAEk1ssVW2P",
    "outputId": "0a62532b-a0a2-440b-e4d0-e291375ec05e"
   },
   "outputs": [
    {
     "name": "stdout",
     "output_type": "stream",
     "text": [
      "<class 'pandas.core.frame.DataFrame'>\n",
      "RangeIndex: 5615 entries, 0 to 5614\n",
      "Data columns (total 17 columns):\n",
      " #   Column               Non-Null Count  Dtype  \n",
      "---  ------               --------------  -----  \n",
      " 0   Distance             5615 non-null   float64\n",
      " 1   Owner Type           5615 non-null   int64  \n",
      " 2   Age of car           5615 non-null   int64  \n",
      " 3   engine_displacement  5615 non-null   int64  \n",
      " 4   engine_power         5615 non-null   float64\n",
      " 5   Vroom Audit Rating   5615 non-null   int64  \n",
      " 6   door_count           5615 non-null   float64\n",
      " 7   seat_count           5615 non-null   float64\n",
      " 8   Maker_bmw            5615 non-null   uint8  \n",
      " 9   Maker_fiat           5615 non-null   uint8  \n",
      " 10  Maker_hyundai        5615 non-null   uint8  \n",
      " 11  Maker_maserati       5615 non-null   uint8  \n",
      " 12  Maker_nissan         5615 non-null   uint8  \n",
      " 13  Maker_skoda          5615 non-null   uint8  \n",
      " 14  Maker_toyota         5615 non-null   uint8  \n",
      " 15  transmission_man     5615 non-null   uint8  \n",
      " 16  fuel_type_petrol     5615 non-null   uint8  \n",
      "dtypes: float64(4), int64(4), uint8(9)\n",
      "memory usage: 400.4 KB\n"
     ]
    }
   ],
   "source": [
    "test_set_final.info()"
   ]
  },
  {
   "cell_type": "code",
   "execution_count": 158,
   "id": "8f50af36",
   "metadata": {
    "id": "8f50af36"
   },
   "outputs": [],
   "source": [
    "## scale the independent features \n",
    "test_set_final.iloc[:,[0,3,4,5,6]] = ss.fit_transform(test_set_final.iloc[:,[0,3,4,5,6]])"
   ]
  },
  {
   "cell_type": "code",
   "execution_count": 159,
   "id": "fkukVByqU3Q_",
   "metadata": {
    "colab": {
     "base_uri": "https://localhost:8080/"
    },
    "id": "fkukVByqU3Q_",
    "outputId": "728a9211-ae8d-4e38-b683-675e0fb65b50"
   },
   "outputs": [
    {
     "name": "stdout",
     "output_type": "stream",
     "text": [
      "<class 'pandas.core.frame.DataFrame'>\n",
      "RangeIndex: 5615 entries, 0 to 5614\n",
      "Data columns (total 17 columns):\n",
      " #   Column               Non-Null Count  Dtype  \n",
      "---  ------               --------------  -----  \n",
      " 0   Distance             5615 non-null   float64\n",
      " 1   Owner Type           5615 non-null   int64  \n",
      " 2   Age of car           5615 non-null   int64  \n",
      " 3   engine_displacement  5615 non-null   float64\n",
      " 4   engine_power         5615 non-null   float64\n",
      " 5   Vroom Audit Rating   5615 non-null   float64\n",
      " 6   door_count           5615 non-null   float64\n",
      " 7   seat_count           5615 non-null   float64\n",
      " 8   Maker_bmw            5615 non-null   uint8  \n",
      " 9   Maker_fiat           5615 non-null   uint8  \n",
      " 10  Maker_hyundai        5615 non-null   uint8  \n",
      " 11  Maker_maserati       5615 non-null   uint8  \n",
      " 12  Maker_nissan         5615 non-null   uint8  \n",
      " 13  Maker_skoda          5615 non-null   uint8  \n",
      " 14  Maker_toyota         5615 non-null   uint8  \n",
      " 15  transmission_man     5615 non-null   uint8  \n",
      " 16  fuel_type_petrol     5615 non-null   uint8  \n",
      "dtypes: float64(6), int64(2), uint8(9)\n",
      "memory usage: 400.4 KB\n"
     ]
    }
   ],
   "source": [
    "test_set_final.info()"
   ]
  },
  {
   "cell_type": "code",
   "execution_count": 160,
   "id": "O0Z_6pb2XLtA",
   "metadata": {
    "id": "O0Z_6pb2XLtA"
   },
   "outputs": [],
   "source": [
    "## compute evaluation metrics for random forest model\n",
    "\n",
    "pred = best_grid = rf_grid_search_model.predict(test_set_final)"
   ]
  },
  {
   "cell_type": "code",
   "execution_count": 161,
   "id": "6f69e760",
   "metadata": {
    "id": "6f69e760"
   },
   "outputs": [],
   "source": [
    "pd.Series(pred).to_csv('result.csv')"
   ]
  }
 ],
 "metadata": {
  "colab": {
   "collapsed_sections": [],
   "provenance": []
  },
  "gpuClass": "standard",
  "kernelspec": {
   "display_name": "Python 3 (ipykernel)",
   "language": "python",
   "name": "python3"
  },
  "language_info": {
   "codemirror_mode": {
    "name": "ipython",
    "version": 3
   },
   "file_extension": ".py",
   "mimetype": "text/x-python",
   "name": "python",
   "nbconvert_exporter": "python",
   "pygments_lexer": "ipython3",
   "version": "3.11.1"
  }
 },
 "nbformat": 4,
 "nbformat_minor": 5
}
